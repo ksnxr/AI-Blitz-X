{
 "cells": [
  {
   "cell_type": "markdown",
   "metadata": {
    "id": "h5D3nRhgHB0d"
   },
   "source": [
    "<h2><center>Submission for Clouds Removal</center></h2>\n",
    "\n",
    "![](https://media.discordapp.net/attachments/703945836614123561/866939997021143040/banner.jpg?width=1439&height=277)"
   ]
  },
  {
   "cell_type": "markdown",
   "metadata": {},
   "source": [
    "*Acknowledgement*: Thanks to my friend for advice. (See this [post](https://discourse.aicrowd.com/t/suggestions-concerning-how-to-solve-this-puzzle/6218))"
   ]
  },
  {
   "cell_type": "markdown",
   "metadata": {
    "id": "rb80iADEFpE8"
   },
   "source": [
    "# Setting up Environment"
   ]
  },
  {
   "cell_type": "markdown",
   "metadata": {
    "id": "vkPGaG7eFqyi"
   },
   "source": [
    "### Downloading Dataset\n",
    "\n",
    "So we will first need to download the python library by AIcrowd that will allow us to download the dataset by just inputting the API key. "
   ]
  },
  {
   "cell_type": "code",
   "execution_count": null,
   "metadata": {
    "colab": {
     "base_uri": "https://localhost:8080/"
    },
    "executionInfo": {
     "elapsed": 7806,
     "status": "ok",
     "timestamp": 1628634503856,
     "user": {
      "displayName": "Martinez Stark",
      "photoUrl": "",
      "userId": "15125435938317481871"
     },
     "user_tz": -480
    },
    "id": "iqU6cl5eJW95",
    "outputId": "818105b3-4848-4add-f9ac-0e67e7dabaf6"
   },
   "outputs": [],
   "source": [
    "!pip install aicrowd-cli\n",
    "\n",
    "%load_ext aicrowd.magic"
   ]
  },
  {
   "cell_type": "code",
   "execution_count": null,
   "metadata": {
    "colab": {
     "base_uri": "https://localhost:8080/"
    },
    "executionInfo": {
     "elapsed": 637,
     "status": "ok",
     "timestamp": 1628634504487,
     "user": {
      "displayName": "Martinez Stark",
      "photoUrl": "",
      "userId": "15125435938317481871"
     },
     "user_tz": -480
    },
    "id": "HycOk3b4lVud",
    "outputId": "90c9ad47-950e-4143-b07b-9dd6f81e5dbe"
   },
   "outputs": [],
   "source": [
    "%aicrowd login --api-key API_KEY"
   ]
  },
  {
   "cell_type": "code",
   "execution_count": null,
   "metadata": {
    "colab": {
     "base_uri": "https://localhost:8080/"
    },
    "executionInfo": {
     "elapsed": 203654,
     "status": "ok",
     "timestamp": 1627566005428,
     "user": {
      "displayName": "Martinez Stark",
      "photoUrl": "",
      "userId": "15125435938317481871"
     },
     "user_tz": -480
    },
    "id": "VKy0FTn3JfMP",
    "outputId": "fae982cf-47b9-45ed-d008-81d2ca14fb1b"
   },
   "outputs": [],
   "source": [
    "# Downloading the Dataset\n",
    "!rm -rf data\n",
    "!mkdir data\n",
    "!aicrowd dataset download -c clouds-removal \"*Complete*\" -o data"
   ]
  },
  {
   "cell_type": "code",
   "execution_count": null,
   "metadata": {
    "id": "wclXhnN3D6-M"
   },
   "outputs": [],
   "source": [
    "# Unzipping the dataset\n",
    "!unzip data/train.zip -d data/train >> /dev/null\n",
    "!unzip data/test.zip -d data/test >> /dev/null"
   ]
  },
  {
   "cell_type": "markdown",
   "metadata": {
    "id": "QTnTbpA8FyKI"
   },
   "source": [
    "# Importing Libraries"
   ]
  },
  {
   "cell_type": "code",
   "execution_count": null,
   "metadata": {
    "executionInfo": {
     "elapsed": 3128,
     "status": "ok",
     "timestamp": 1628634535579,
     "user": {
      "displayName": "Martinez Stark",
      "photoUrl": "",
      "userId": "15125435938317481871"
     },
     "user_tz": -480
    },
    "id": "1v1LjdBt9ljv"
   },
   "outputs": [],
   "source": [
    "# Importing Libraries\n",
    "import os\n",
    "import numpy as np\n",
    "import random\n",
    "import torch\n",
    "from natsort import natsorted\n",
    "from glob import glob\n",
    "import cv2\n",
    "from tqdm.notebook import tqdm"
   ]
  },
  {
   "cell_type": "code",
   "execution_count": null,
   "metadata": {
    "executionInfo": {
     "elapsed": 3,
     "status": "ok",
     "timestamp": 1628634535579,
     "user": {
      "displayName": "Martinez Stark",
      "photoUrl": "",
      "userId": "15125435938317481871"
     },
     "user_tz": -480
    },
    "id": "ERSoyr1A6WKF"
   },
   "outputs": [],
   "source": [
    "def seed_everything(seed):\n",
    "  os.environ[\"PL_GLOBAL_SEED\"] = str(seed)\n",
    "  random.seed(seed)\n",
    "  np.random.seed(seed)\n",
    "  torch.manual_seed(seed)\n",
    "  torch.cuda.manual_seed_all(seed)\n",
    "\n",
    "seed_everything(1)"
   ]
  },
  {
   "cell_type": "markdown",
   "metadata": {},
   "source": [
    "# Preprocessing"
   ]
  },
  {
   "cell_type": "code",
   "execution_count": null,
   "metadata": {
    "id": "2S07yfuH5BNN"
   },
   "outputs": [],
   "source": [
    "all_files = os.listdir('data/train')\n",
    "num_total = int(len(all_files) / 2)"
   ]
  },
  {
   "cell_type": "markdown",
   "metadata": {},
   "source": [
    "## Get validation set"
   ]
  },
  {
   "cell_type": "code",
   "execution_count": null,
   "metadata": {
    "id": "6AG4aESs5ro8"
   },
   "outputs": [],
   "source": [
    "indexes = [i for i in range(num_total)]\n",
    "val_idxes = random.sample(indexes, 6)\n",
    "val_idxes[0]\n",
    "\n",
    "val_idxes = []"
   ]
  },
  {
   "cell_type": "markdown",
   "metadata": {},
   "source": [
    "## Extract frames from videos"
   ]
  },
  {
   "cell_type": "code",
   "execution_count": null,
   "metadata": {
    "cellView": "form",
    "id": "XVDrqD73xlFO"
   },
   "outputs": [],
   "source": [
    "!rm -rf my_data\n",
    "!rm -rf testA\n",
    "!mkdir my_data\n",
    "!mkdir my_data/A\n",
    "!mkdir my_data/B\n",
    "!mkdir my_data/A/train\n",
    "!mkdir my_data/A/val\n",
    "!mkdir my_data/B/train\n",
    "!mkdir my_data/B/val\n",
    "!mkdir testA\n",
    "!mkdir testA/test\n",
    "\n",
    "for cloud_video in natsorted(glob('data/train/cloud*')):\n",
    "  current = int(cloud_video.split('.')[0].split('_')[1])\n",
    "  img_video = cv2.VideoCapture(cloud_video)\n",
    "  # Going through each frame\n",
    "  index = 0\n",
    "  while True:\n",
    "    # Reading the frame\n",
    "    ret, frame = img_video.read()\n",
    "    if ret:\n",
    "      if current in val_idxes:\n",
    "        cv2.imwrite(f'my_data/A/val/{current}_{index}.jpg', frame)\n",
    "      else:\n",
    "        cv2.imwrite(f'my_data/A/train/{current}_{index}.jpg', frame)\n",
    "      index += 1\n",
    "    else:\n",
    "      break\n",
    "\n",
    "for clear_video in natsorted(glob('data/train/clear*')):\n",
    "  current = int(clear_video.split('.')[0].split('_')[1])\n",
    "  img_video = cv2.VideoCapture(clear_video)\n",
    "  # Going through each frame\n",
    "  index = 0\n",
    "  while True:\n",
    "    # Reading the frame\n",
    "    ret, frame = img_video.read()\n",
    "    if ret:\n",
    "      if current in val_idxes:\n",
    "        cv2.imwrite(f'my_data/B/val/{current}_{index}.jpg', frame)\n",
    "      else:\n",
    "        cv2.imwrite(f'my_data/B/train/{current}_{index}.jpg', frame)\n",
    "      index += 1\n",
    "    else:\n",
    "      break\n",
    "\n",
    "for cloud_video in natsorted(glob('data/test/*')):\n",
    "  current = int(cloud_video.split('.')[0].split('_')[1])\n",
    "  img_video = cv2.VideoCapture(cloud_video)\n",
    "  # Going through each frame\n",
    "  index = 0\n",
    "  while True:\n",
    "    # Reading the frame\n",
    "    ret, frame = img_video.read()\n",
    "    if ret:\n",
    "      cv2.imwrite(f'testA/test/{current}_{index}.jpg', frame)\n",
    "      index += 1\n",
    "    else:\n",
    "      break"
   ]
  },
  {
   "cell_type": "markdown",
   "metadata": {},
   "source": [
    "I used pix2pix algorithm implemented by the original author in [this repo](https://github.com/junyanz/pytorch-CycleGAN-and-pix2pix)."
   ]
  },
  {
   "cell_type": "code",
   "execution_count": null,
   "metadata": {
    "colab": {
     "base_uri": "https://localhost:8080/"
    },
    "executionInfo": {
     "elapsed": 1199,
     "status": "ok",
     "timestamp": 1628634539637,
     "user": {
      "displayName": "Martinez Stark",
      "photoUrl": "",
      "userId": "15125435938317481871"
     },
     "user_tz": -480
    },
    "id": "vG-EyfXKwPgX",
    "outputId": "91053fd4-2ede-4e2d-a62b-ecfce0e26796"
   },
   "outputs": [],
   "source": [
    "!rm -rf pytorch-CycleGAN-and-pix2pix\n",
    "!git clone https://github.com/junyanz/pytorch-CycleGAN-and-pix2pix.git"
   ]
  },
  {
   "cell_type": "code",
   "execution_count": null,
   "metadata": {
    "id": "wRmDxkcUAI0n"
   },
   "outputs": [],
   "source": [
    "!rm -rf final_data\n",
    "!cd pytorch-CycleGAN-and-pix2pix && python3 datasets/combine_A_and_B.py --fold_A ../my_data/A --fold_B ../my_data/B --fold_AB ../final_data"
   ]
  },
  {
   "cell_type": "markdown",
   "metadata": {
    "id": "xaxXX8reB3NE"
   },
   "source": [
    "# Training"
   ]
  },
  {
   "cell_type": "code",
   "execution_count": null,
   "metadata": {
    "colab": {
     "base_uri": "https://localhost:8080/"
    },
    "executionInfo": {
     "elapsed": 10052,
     "status": "ok",
     "timestamp": 1628634549687,
     "user": {
      "displayName": "Martinez Stark",
      "photoUrl": "",
      "userId": "15125435938317481871"
     },
     "user_tz": -480
    },
    "id": "5aF1wNenC2U-",
    "outputId": "aedd484e-363d-4ca8-ff8f-8260b1135715"
   },
   "outputs": [],
   "source": [
    "!pip install dominate\n",
    "!pip install visdom"
   ]
  },
  {
   "cell_type": "markdown",
   "metadata": {},
   "source": [
    "Note: in the submission notebook, I set both n_epochs and n_epochs_decay to be 10, but stopped the training at the start of epoch 16."
   ]
  },
  {
   "cell_type": "code",
   "execution_count": null,
   "metadata": {
    "cellView": "form",
    "colab": {
     "base_uri": "https://localhost:8080/"
    },
    "executionInfo": {
     "elapsed": 10114433,
     "status": "ok",
     "timestamp": 1628162020500,
     "user": {
      "displayName": "Martinez Stark",
      "photoUrl": "",
      "userId": "15125435938317481871"
     },
     "user_tz": -480
    },
    "id": "kkFUaPnAB5Yc",
    "outputId": "8ee030da-c5bf-4225-fcbb-391139ca740f",
    "scrolled": true
   },
   "outputs": [],
   "source": [
    "!rm -rf checkpoints\n",
    "!cd pytorch-CycleGAN-and-pix2pix && python3 train.py --dataroot ../final_data --name clouds --model pix2pix --direction AtoB --checkpoints_dir ../checkpoints --batch_size 4 --n_epochs 10 --n_epochs_decay 5 --gan_mode lsgan --save_epoch_freq 1 --display_id -1"
   ]
  },
  {
   "cell_type": "markdown",
   "metadata": {
    "id": "uoUdY14JF0ff"
   },
   "source": [
    "# Generate Submission\n",
    "\n",
    "Read all of the files from the tesing directroy and save the same video in `clear` directory for submsision. "
   ]
  },
  {
   "cell_type": "code",
   "execution_count": null,
   "metadata": {
    "colab": {
     "base_uri": "https://localhost:8080/"
    },
    "executionInfo": {
     "elapsed": 233543,
     "status": "ok",
     "timestamp": 1628647637391,
     "user": {
      "displayName": "Martinez Stark",
      "photoUrl": "",
      "userId": "15125435938317481871"
     },
     "user_tz": -480
    },
    "id": "rZAw72u07ZAr",
    "outputId": "efb35a80-ab35-4362-a738-70015c28c37b"
   },
   "outputs": [],
   "source": [
    "from PIL import Image\n",
    "!rm -rf new_testA\n",
    "!mkdir new_testA\n",
    "!mkdir new_testA/test\n",
    "for img in os.listdir('testA/test'):\n",
    "  new_img = Image.new('RGB', (1024, 512))\n",
    "  orig_img = Image.open(f'testA/test/{img}')\n",
    "  new_img.paste(orig_img)\n",
    "  new_img.save(f'new_testA/test/{img}')\n",
    "print(len(os.listdir('new_testA/test')))"
   ]
  },
  {
   "cell_type": "code",
   "execution_count": null,
   "metadata": {
    "executionInfo": {
     "elapsed": 19,
     "status": "ok",
     "timestamp": 1628649957540,
     "user": {
      "displayName": "Martinez Stark",
      "photoUrl": "",
      "userId": "15125435938317481871"
     },
     "user_tz": -480
    },
    "id": "msceXbSX_t-m"
   },
   "outputs": [],
   "source": [
    "from tqdm import tqdm\n",
    "\n",
    "# Generating Predictions Function\n",
    "def gen_predictions():\n",
    "  !rm -rf clear\n",
    "  !mkdir clear\n",
    "  for index in tqdm(range(500)):\n",
    "    fourcc = cv2.VideoWriter_fourcc(*'mp4v')\n",
    "    out = cv2.VideoWriter(os.path.join(\"clear\", f\"clear_{index}.mp4\"), fourcc, 24.0, (512,512))\n",
    "    video_images = [f'results/clouds/test_latest/images/{index}_{i}_fake.png' for i in range(24)]\n",
    "    for image in video_images:\n",
    "      assert os.path.isfile(image)\n",
    "      frame = cv2.imread(image)\n",
    "      frame = cv2.resize(frame, (512, 512))\n",
    "      out.write(frame)"
   ]
  },
  {
   "cell_type": "code",
   "execution_count": null,
   "metadata": {
    "colab": {
     "base_uri": "https://localhost:8080/"
    },
    "executionInfo": {
     "elapsed": 158178,
     "status": "ok",
     "timestamp": 1628650115707,
     "user": {
      "displayName": "Martinez Stark",
      "photoUrl": "",
      "userId": "15125435938317481871"
     },
     "user_tz": -480
    },
    "id": "_Fp8l6LM3pKP",
    "outputId": "d5acd1dc-e7a5-4e6a-9343-be4771b539da"
   },
   "outputs": [],
   "source": [
    "gen_predictions()"
   ]
  }
 ],
 "metadata": {
  "accelerator": "GPU",
  "colab": {
   "collapsed_sections": [],
   "name": "Cloud Removal pix2pix",
   "provenance": [
    {
     "file_id": "https://gist.github.com/aicrowd-bot/3413685226589f2a5704e9582d3b596b",
     "timestamp": 1627057299308
    }
   ]
  },
  "kernelspec": {
   "display_name": "Python 3",
   "language": "python",
   "name": "python3"
  },
  "language_info": {
   "codemirror_mode": {
    "name": "ipython",
    "version": 3
   },
   "file_extension": ".py",
   "mimetype": "text/x-python",
   "name": "python",
   "nbconvert_exporter": "python",
   "pygments_lexer": "ipython3",
   "version": "3.6.13"
  }
 },
 "nbformat": 4,
 "nbformat_minor": 1
}
