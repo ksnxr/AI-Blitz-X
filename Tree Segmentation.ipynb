{
 "cells": [
  {
   "cell_type": "markdown",
   "metadata": {
    "id": "STWEHdaT_f7r"
   },
   "source": [
    "<h2><center>Tree Segmentation</center></h2>\n",
    "\n",
    "![](https://media.discordapp.net/attachments/703945836614123561/866940481263108146/banner.jpg?width=1439&height=277)\n",
    "\n",
    "I used [segmentation_models.pytorch](https://github.com/qubvel/segmentation_models.pytorch) for the image segmentation."
   ]
  },
  {
   "cell_type": "markdown",
   "metadata": {
    "id": "zrWHUEaUPPf4"
   },
   "source": [
    "# Setting up Environment"
   ]
  },
  {
   "cell_type": "markdown",
   "metadata": {
    "id": "e25F_Sk7x4lT"
   },
   "source": [
    "### Downloading Dataset\n",
    "\n",
    "So we will first need to download the python library by AIcrowd that will allow us to download the dataset by just inputting the API key. "
   ]
  },
  {
   "cell_type": "code",
   "execution_count": 1,
   "metadata": {
    "colab": {
     "base_uri": "https://localhost:8080/"
    },
    "executionInfo": {
     "elapsed": 4837,
     "status": "ok",
     "timestamp": 1628500078725,
     "user": {
      "displayName": "Martinez Stark",
      "photoUrl": "",
      "userId": "15125435938317481871"
     },
     "user_tz": -480
    },
    "id": "-YCGDyQmzpcF",
    "outputId": "fb544c0e-2eb7-4f88-cbb5-94f9fbc82540",
    "scrolled": true
   },
   "outputs": [],
   "source": [
    "# !pip install --user aicrowd-cli"
   ]
  },
  {
   "cell_type": "code",
   "execution_count": 2,
   "metadata": {
    "colab": {
     "base_uri": "https://localhost:8080/"
    },
    "executionInfo": {
     "elapsed": 484,
     "status": "ok",
     "timestamp": 1628500079206,
     "user": {
      "displayName": "Martinez Stark",
      "photoUrl": "",
      "userId": "15125435938317481871"
     },
     "user_tz": -480
    },
    "id": "81N5EuM8lJq5",
    "outputId": "23a4f634-0779-4004-d986-7b14e58e6928"
   },
   "outputs": [
    {
     "name": "stdout",
     "output_type": "stream",
     "text": [
      "\u001b[32mAPI Key valid\u001b[0m\n",
      "\u001b[32mSaved API Key successfully!\u001b[0m\n"
     ]
    }
   ],
   "source": [
    "!aicrowd login --api-key API_KEY"
   ]
  },
  {
   "cell_type": "code",
   "execution_count": 1,
   "metadata": {
    "colab": {
     "base_uri": "https://localhost:8080/",
     "height": 81,
     "referenced_widgets": [
      "5577e6f4fba648648e8fb40348992b42",
      "5898023df6e8499381b49a8c83c1de17",
      "a644072b8bc34b0f8dd0b8dfb8a9574b",
      "bf8b88a1521b43849a79cde18e49072e",
      "c32c98081ac647ed97fc2120047bd644",
      "fe373ce682f349c79201f7c0e8fc311d",
      "c9f8ff9213e04e8a9bfdc84c3e4c2727",
      "ca5deb762b604aa6b98e6c2ac22d7172",
      "2442b68d2582460db127257b5a92a488",
      "5ce652bb93214820bdfa23d18dfd7994",
      "6260418d18cb4f388fc73fe55653c5f9",
      "8818ba8f64814b8da04485b6f4b84558",
      "fe735da8ebb64b8aa850e85d3ec1ca4f",
      "8a71cc7a9f5b4a4faa0e63333ea01ed1",
      "f137cb7f7be74eec9c81c606e9e9b4d5",
      "e58c919214b74ef092437bac5d11a661",
      "28a10c611bc14ceaa5eb35ad8ff1aa7a",
      "e292638dbf4344ed8c8f9516feddada0",
      "32bab4b0dfe24d458c58fd7c72de7e54",
      "f8e041ed62e54180a7a85fabe12fc0ee",
      "8e093995056c4baab7a7102787184fbb",
      "9665f277f6ae48b0921fec929462f28e"
     ]
    },
    "executionInfo": {
     "elapsed": 63496,
     "status": "ok",
     "timestamp": 1628500142700,
     "user": {
      "displayName": "Martinez Stark",
      "photoUrl": "",
      "userId": "15125435938317481871"
     },
     "user_tz": -480
    },
    "id": "sL7Xc-_0nU8u",
    "outputId": "6015b2b0-92f2-4016-ac38-3b2ec6c1d5ec",
    "scrolled": true
   },
   "outputs": [],
   "source": [
    "# Downloading the Dataset\n",
    "!rm -rf data\n",
    "!mkdir data\n",
    "!aicrowd ds dl -c tree-segmentation -o data"
   ]
  },
  {
   "cell_type": "code",
   "execution_count": 2,
   "metadata": {
    "executionInfo": {
     "elapsed": 6500,
     "status": "ok",
     "timestamp": 1628500149196,
     "user": {
      "displayName": "Martinez Stark",
      "photoUrl": "",
      "userId": "15125435938317481871"
     },
     "user_tz": -480
    },
    "id": "8Bugde7WOtsL"
   },
   "outputs": [],
   "source": [
    "!unzip data/train.zip -d data/train > /dev/null\n",
    "!unzip data/test.zip -d data/test > /dev/null"
   ]
  },
  {
   "cell_type": "markdown",
   "metadata": {
    "id": "uvZMZDQmxtXt"
   },
   "source": [
    "### Downloading & Importing Libraries\n",
    "\n",
    "Here we are going to use [segmentation_models.pytorch](https://github.com/qubvel/segmentation_models.pytorch) which is a really popular library providing a tons of different segmentation models for pytorch including basic unets to DeepLabV3! "
   ]
  },
  {
   "cell_type": "code",
   "execution_count": 5,
   "metadata": {
    "colab": {
     "base_uri": "https://localhost:8080/"
    },
    "executionInfo": {
     "elapsed": 7319,
     "status": "ok",
     "timestamp": 1628500156512,
     "user": {
      "displayName": "Martinez Stark",
      "photoUrl": "",
      "userId": "15125435938317481871"
     },
     "user_tz": -480
    },
    "id": "wQ_OY96mkL5Q",
    "outputId": "20a1558f-73d8-4608-a6d0-a61a616c2277",
    "scrolled": true
   },
   "outputs": [],
   "source": [
    "# !pip3 install torch==1.9.0+cu102 torchvision==0.10.0+cu102 -f https://download.pytorch.org/whl/torch_stable.html\n",
    "# !pip3 install --user pillow==8.2.0\n",
    "# !pip3 install --user natsort\n",
    "# !pip3 install --user timm==0.4.12\n",
    "# !pip3 install --user efficientnet_pytorch==0.6.3\n",
    "# !pip3 install --user pretrainedmodels==0.7.4\n",
    "# !pip3 install --user git+https://github.com/qubvel/segmentation_models.pytorch "
   ]
  },
  {
   "cell_type": "code",
   "execution_count": 3,
   "metadata": {
    "executionInfo": {
     "elapsed": 3964,
     "status": "ok",
     "timestamp": 1628500160459,
     "user": {
      "displayName": "Martinez Stark",
      "photoUrl": "",
      "userId": "15125435938317481871"
     },
     "user_tz": -480
    },
    "id": "rKADY8ZS2zmR"
   },
   "outputs": [],
   "source": [
    "# Pytorch \n",
    "import torch\n",
    "from torch import nn\n",
    "import segmentation_models_pytorch as smp\n",
    "from torch.utils.data import Dataset, DataLoader\n",
    "\n",
    "# Reading Dataset, vis and miscellaneous\n",
    "import math\n",
    "from PIL import Image\n",
    "import matplotlib.pyplot as plt\n",
    "import os\n",
    "import shutil\n",
    "import random\n",
    "import numpy as np\n",
    "from tqdm.notebook import tqdm\n",
    "import cv2\n",
    "from natsort import natsorted"
   ]
  },
  {
   "cell_type": "markdown",
   "metadata": {
    "id": "WE-JWKZSCtSr"
   },
   "source": [
    "# Training phase ⚙️"
   ]
  },
  {
   "cell_type": "markdown",
   "metadata": {
    "id": "wOG3jGxkCvFO"
   },
   "source": [
    "Get validation set"
   ]
  },
  {
   "cell_type": "code",
   "execution_count": 4,
   "metadata": {
    "executionInfo": {
     "elapsed": 22,
     "status": "ok",
     "timestamp": 1628500160459,
     "user": {
      "displayName": "Martinez Stark",
      "photoUrl": "",
      "userId": "15125435938317481871"
     },
     "user_tz": -480
    },
    "id": "8o7ykhR9Cufh"
   },
   "outputs": [],
   "source": [
    "def seed_everything(seed):\n",
    "  os.environ[\"PL_GLOBAL_SEED\"] = str(seed)\n",
    "  random.seed(seed)\n",
    "  np.random.seed(seed)\n",
    "  torch.manual_seed(seed)\n",
    "  torch.cuda.manual_seed_all(seed)\n",
    "\n",
    "seed_everything(1)"
   ]
  },
  {
   "cell_type": "code",
   "execution_count": 5,
   "metadata": {
    "colab": {
     "base_uri": "https://localhost:8080/"
    },
    "executionInfo": {
     "elapsed": 22,
     "status": "ok",
     "timestamp": 1628500160460,
     "user": {
      "displayName": "Martinez Stark",
      "photoUrl": "",
      "userId": "15125435938317481871"
     },
     "user_tz": -480
    },
    "id": "2dLFbzJiNGau",
    "outputId": "8082d4c1-9f4a-47ab-aa86-6e88c14a32f8"
   },
   "outputs": [
    {
     "data": {
      "text/plain": [
       "1100"
      ]
     },
     "execution_count": 5,
     "metadata": {},
     "output_type": "execute_result"
    }
   ],
   "source": [
    "indexes = [i for i in range(5000)]\n",
    "val_idxes = random.sample(indexes, 500)\n",
    "val_idxes[0]"
   ]
  },
  {
   "cell_type": "code",
   "execution_count": 6,
   "metadata": {
    "executionInfo": {
     "elapsed": 6,
     "status": "ok",
     "timestamp": 1628500160460,
     "user": {
      "displayName": "Martinez Stark",
      "photoUrl": "",
      "userId": "15125435938317481871"
     },
     "user_tz": -480
    },
    "id": "1377c_lADR7L"
   },
   "outputs": [],
   "source": [
    "!rm -rf data/val\n",
    "os.mkdir('data/val')\n",
    "os.mkdir('data/val/image')\n",
    "os.mkdir('data/val/segmentation')\n",
    "for idx in val_idxes:\n",
    "  shutil.move(f'data/train/image/{idx}.jpg', 'data/val/image')\n",
    "  shutil.move(f'data/train/segmentation/{idx}.png', 'data/val/segmentation')"
   ]
  },
  {
   "cell_type": "markdown",
   "metadata": {
    "id": "jH3nUiFzyTS6"
   },
   "source": [
    "## Creating the Dataloader\n",
    "\n",
    "Here, we are simply create a class for pytorch to load the dataset and then to put into the model "
   ]
  },
  {
   "cell_type": "code",
   "execution_count": 7,
   "metadata": {
    "executionInfo": {
     "elapsed": 9,
     "status": "ok",
     "timestamp": 1628500163901,
     "user": {
      "displayName": "Martinez Stark",
      "photoUrl": "",
      "userId": "15125435938317481871"
     },
     "user_tz": -480
    },
    "id": "cqLSfwtDkEWO"
   },
   "outputs": [],
   "source": [
    "from torchvision import transforms\n",
    "import torchvision.transforms.functional as F\n",
    "\n",
    "class TreeSegmentationDataset(Dataset):\n",
    "    def __init__(self, img_directory=None, label_directory=None, mode='train', img_transforms=None, mutual_transforms=None):\n",
    "        \n",
    "\n",
    "        self.img_directory = img_directory\n",
    "        self.label_directory = label_directory            \n",
    "\n",
    "        # If the image direcotry is valid      \n",
    "        if img_directory != None:\n",
    "          self.img_list = natsorted(os.listdir(img_directory))\n",
    "          self.label_list = natsorted(os.listdir(label_directory))\n",
    "\n",
    "        self.mode = mode\n",
    "        self.img_transforms = img_transforms\n",
    "        self.mutual_transforms = mutual_transforms\n",
    "\n",
    "    def __len__(self):\n",
    "        return len(self.img_list)\n",
    "\n",
    "    def __getitem__(self, idx):\n",
    "        # Reading the image\n",
    "        img = Image.open(os.path.join(self.img_directory, self.img_list[idx]))\n",
    "        \n",
    "        if self.mode == 'train' and self.img_transforms is not None:\n",
    "          img = self.img_transforms(img)\n",
    "          \n",
    "        preprocessing = transforms.Compose(\n",
    "          [\n",
    "            transforms.ToTensor(),\n",
    "            transforms.Normalize([0.485, 0.456, 0.406], [0.229, 0.224, 0.225])\n",
    "          ]\n",
    "        )\n",
    "        img = preprocessing(img)\n",
    "\n",
    "        if self.mode == 'train':\n",
    "          mask = Image.open(os.path.join(self.label_directory, self.label_list[idx]))\n",
    "          mask = transforms.ToTensor()(mask).int()\n",
    "          if self.mutual_transforms is not None:\n",
    "            img, mask = self.mutual_transforms(img, mask)\n",
    "          return img, mask\n",
    "\n",
    "        elif self.mode == 'val':\n",
    "          mask = Image.open(os.path.join(self.label_directory, self.label_list[idx]))\n",
    "          mask = transforms.ToTensor()(mask).int()\n",
    "          return img, mask\n",
    "        \n",
    "        else:\n",
    "          return img"
   ]
  },
  {
   "cell_type": "code",
   "execution_count": 8,
   "metadata": {
    "executionInfo": {
     "elapsed": 9,
     "status": "ok",
     "timestamp": 1628500163902,
     "user": {
      "displayName": "Martinez Stark",
      "photoUrl": "",
      "userId": "15125435938317481871"
     },
     "user_tz": -480
    },
    "id": "nPbfqaWQpn2P"
   },
   "outputs": [],
   "source": [
    "class RandomHorizontalVerticalFlip(object):\n",
    "  def __init__(self, v_flip, h_flip):\n",
    "    self.v_flip = v_flip\n",
    "    self.h_flip = h_flip\n",
    "\n",
    "  def __call__(self, image, target):\n",
    "    if random.random() < self.v_flip:\n",
    "      image = F.vflip(image)\n",
    "      target = F.vflip(target)\n",
    "    if random.random() < self.h_flip:\n",
    "      image = F.hflip(image)\n",
    "      target = F.hflip(target)\n",
    "    return image, target\n",
    "\n",
    "# train_img_transforms = transforms.ColorJitter(brightness=0.1, contrast=0.1)\n",
    "# train_mutual_transforms = RandomHorizontalVerticalFlip(v_flip=0.5, h_flip=0.5)\n",
    "train_img_transforms = None\n",
    "train_mutual_transforms = None"
   ]
  },
  {
   "cell_type": "code",
   "execution_count": 9,
   "metadata": {
    "executionInfo": {
     "elapsed": 9,
     "status": "ok",
     "timestamp": 1628500163903,
     "user": {
      "displayName": "Martinez Stark",
      "photoUrl": "",
      "userId": "15125435938317481871"
     },
     "user_tz": -480
    },
    "id": "BNdYB8wNmNh4"
   },
   "outputs": [],
   "source": [
    "# Creating the training dataset\n",
    "train_dataset = TreeSegmentationDataset(img_directory=\"data/train/image\", label_directory=\"data/train/segmentation\", mode='train', img_transforms=train_img_transforms, mutual_transforms=train_mutual_transforms)\n",
    "train_loader = DataLoader(train_dataset, batch_size=8, shuffle=True, drop_last=True)\n",
    "val_dataset = TreeSegmentationDataset(img_directory=\"data/val/image\", label_directory=\"data/val/segmentation\", mode='val')\n",
    "val_loader = DataLoader(val_dataset, batch_size=8, shuffle=True, drop_last=True)"
   ]
  },
  {
   "cell_type": "code",
   "execution_count": 10,
   "metadata": {
    "colab": {
     "base_uri": "https://localhost:8080/"
    },
    "executionInfo": {
     "elapsed": 709,
     "status": "ok",
     "timestamp": 1628500164603,
     "user": {
      "displayName": "Martinez Stark",
      "photoUrl": "",
      "userId": "15125435938317481871"
     },
     "user_tz": -480
    },
    "id": "ORo_YB4qUS15",
    "outputId": "04ff35f4-7b68-4c46-b93c-0edd43f8a491"
   },
   "outputs": [
    {
     "data": {
      "text/plain": [
       "(torch.Size([8, 3, 512, 512]), torch.Size([8, 1, 512, 512]))"
      ]
     },
     "execution_count": 10,
     "metadata": {},
     "output_type": "execute_result"
    }
   ],
   "source": [
    "# Reading the image and corrosponding segmentation\n",
    "image_batch, segmentation_batch = next(iter(train_loader))\n",
    "\n",
    "image_batch.shape, segmentation_batch.shape"
   ]
  },
  {
   "cell_type": "markdown",
   "metadata": {
    "id": "QuNMqu3ayWS4"
   },
   "source": [
    "## Creating the Model\n",
    "\n",
    "Here we will get setting up the model architecture, optimizer and loss."
   ]
  },
  {
   "cell_type": "code",
   "execution_count": 14,
   "metadata": {
    "colab": {
     "base_uri": "https://localhost:8080/",
     "height": 66,
     "referenced_widgets": [
      "ac4b3fa190a34324ab71a8d06d994c21",
      "2750b656e2eb40cca4d7823a190633d6",
      "3674af37e63240f3b0673f42461202b0",
      "057bfb21c47f4bcf84e4e6e68f60766e",
      "f3a5094a07434bd69ee4f3e303372a79",
      "4c9539f1287a43bdae2deedb6fa02677",
      "bc7f1a0f27eb4ff5b890ea03d4c1e140",
      "b7a0a7f30de04ce9a18e8cd6fe59d8d2",
      "92c341bd783848d3ab7df6a7842a8fd4",
      "a8b5e6e91284416fbc82756e240cbf30",
      "d673c60e0a2041db9bf556e4daf1642d"
     ]
    },
    "executionInfo": {
     "elapsed": 1754,
     "status": "ok",
     "timestamp": 1627461527806,
     "user": {
      "displayName": "Martinez Stark",
      "photoUrl": "",
      "userId": "15125435938317481871"
     },
     "user_tz": -480
    },
    "id": "6H1X-rr8o4Q3",
    "outputId": "915587d8-2516-43be-806b-53a7672a847b"
   },
   "outputs": [],
   "source": [
    "model = smp.UnetPlusPlus(\n",
    "    encoder_name='resnet50', \n",
    "    encoder_weights='imagenet', \n",
    "    classes=1, \n",
    "    activation='sigmoid',\n",
    "    in_channels=3\n",
    ")"
   ]
  },
  {
   "cell_type": "code",
   "execution_count": 15,
   "metadata": {
    "executionInfo": {
     "elapsed": 24,
     "status": "ok",
     "timestamp": 1628500170791,
     "user": {
      "displayName": "Martinez Stark",
      "photoUrl": "",
      "userId": "15125435938317481871"
     },
     "user_tz": -480
    },
    "id": "SIy4cqq60n3O"
   },
   "outputs": [],
   "source": [
    "loss = smp.utils.losses.DiceLoss()\n",
    "\n",
    "metrics = [\n",
    "    smp.utils.metrics.Fscore(threshold=0.5),\n",
    "]\n",
    "\n",
    "optimizer = torch.optim.Adam([ \n",
    "    dict(params=model.parameters(), lr=0.001),\n",
    "])"
   ]
  },
  {
   "cell_type": "markdown",
   "metadata": {
    "id": "DNtiH58hyYAA"
   },
   "source": [
    "## Training the Model"
   ]
  },
  {
   "cell_type": "code",
   "execution_count": 16,
   "metadata": {
    "executionInfo": {
     "elapsed": 25,
     "status": "ok",
     "timestamp": 1628500170792,
     "user": {
      "displayName": "Martinez Stark",
      "photoUrl": "",
      "userId": "15125435938317481871"
     },
     "user_tz": -480
    },
    "id": "yAUbK3D8qTeH"
   },
   "outputs": [],
   "source": [
    "DEVICE = 'cuda' if torch.cuda.is_available() else 'cpu'\n",
    "\n",
    "train_epoch = smp.utils.train.TrainEpoch(\n",
    "    model, \n",
    "    loss=loss, \n",
    "    metrics=metrics, \n",
    "    optimizer=optimizer,\n",
    "    device=DEVICE,\n",
    "    verbose=True,\n",
    ")\n",
    "\n",
    "valid_epoch = smp.utils.train.ValidEpoch(\n",
    "    model, \n",
    "    loss=loss, \n",
    "    metrics=metrics, \n",
    "    device=DEVICE,\n",
    "    verbose=True,\n",
    ")"
   ]
  },
  {
   "cell_type": "code",
   "execution_count": 17,
   "metadata": {
    "colab": {
     "base_uri": "https://localhost:8080/"
    },
    "id": "EzSEZ5Mo0jKE",
    "outputId": "5919af93-6615-4a5a-ff5e-92aa21f121b6",
    "scrolled": true
   },
   "outputs": [
    {
     "name": "stdout",
     "output_type": "stream",
     "text": [
      "\n",
      "Epoch: 0\n",
      "train:   0%|          | 0/562 [00:00<?, ?it/s]"
     ]
    },
    {
     "name": "stderr",
     "output_type": "stream",
     "text": [
      "/home/featurize/work/.local/lib/python3.7/site-packages/torch/nn/functional.py:718: UserWarning: Named tensors and all their associated APIs are an experimental feature and subject to change. Please do not use them for anything important until they are released as stable. (Triggered internally at  /pytorch/c10/core/TensorImpl.h:1156.)\n",
      "  return torch.max_pool2d(input, kernel_size, stride, padding, dilation, ceil_mode)\n"
     ]
    },
    {
     "name": "stdout",
     "output_type": "stream",
     "text": [
      "train: 100%|██████████| 562/562 [07:55<00:00,  1.18it/s, dice_loss - 0.08663, fscore - 0.9224]\n",
      "valid: 100%|██████████| 62/62 [00:21<00:00,  2.83it/s, dice_loss - 0.06439, fscore - 0.937] \n",
      "Model saved!\n",
      "\n",
      "Epoch: 1\n",
      "train: 100%|██████████| 562/562 [07:58<00:00,  1.17it/s, dice_loss - 0.06222, fscore - 0.9385]\n",
      "valid: 100%|██████████| 62/62 [00:22<00:00,  2.81it/s, dice_loss - 0.06136, fscore - 0.9392]\n",
      "Model saved!\n",
      "\n",
      "Epoch: 2\n",
      "train: 100%|██████████| 562/562 [07:55<00:00,  1.18it/s, dice_loss - 0.05658, fscore - 0.9439]\n",
      "valid: 100%|██████████| 62/62 [00:22<00:00,  2.81it/s, dice_loss - 0.05425, fscore - 0.9461]\n",
      "Model saved!\n",
      "\n",
      "Epoch: 3\n",
      "train: 100%|██████████| 562/562 [07:51<00:00,  1.19it/s, dice_loss - 0.05289, fscore - 0.9475]\n",
      "valid: 100%|██████████| 62/62 [00:22<00:00,  2.81it/s, dice_loss - 0.05291, fscore - 0.9474]\n",
      "Model saved!\n",
      "\n",
      "Epoch: 4\n",
      "train: 100%|██████████| 562/562 [07:52<00:00,  1.19it/s, dice_loss - 0.05069, fscore - 0.9496]\n",
      "valid: 100%|██████████| 62/62 [00:22<00:00,  2.78it/s, dice_loss - 0.05116, fscore - 0.9491]\n",
      "Model saved!\n",
      "\n",
      "Epoch: 5\n",
      "train: 100%|██████████| 562/562 [07:53<00:00,  1.19it/s, dice_loss - 0.04978, fscore - 0.9504]\n",
      "valid: 100%|██████████| 62/62 [00:22<00:00,  2.75it/s, dice_loss - 0.04971, fscore - 0.9505]\n",
      "Model saved!\n",
      "\n",
      "Epoch: 6\n",
      "train: 100%|██████████| 562/562 [08:00<00:00,  1.17it/s, dice_loss - 0.04789, fscore - 0.9523]\n",
      "valid: 100%|██████████| 62/62 [00:22<00:00,  2.77it/s, dice_loss - 0.04815, fscore - 0.952] \n",
      "Model saved!\n",
      "\n",
      "Epoch: 7\n",
      "train: 100%|██████████| 562/562 [07:59<00:00,  1.17it/s, dice_loss - 0.04652, fscore - 0.9536]\n",
      "valid: 100%|██████████| 62/62 [00:23<00:00,  2.67it/s, dice_loss - 0.04737, fscore - 0.9528]\n",
      "Model saved!\n",
      "\n",
      "Epoch: 8\n",
      "train: 100%|██████████| 562/562 [08:02<00:00,  1.16it/s, dice_loss - 0.04561, fscore - 0.9545]\n",
      "valid: 100%|██████████| 62/62 [00:23<00:00,  2.63it/s, dice_loss - 0.04725, fscore - 0.9529]\n",
      "Model saved!\n",
      "\n",
      "Epoch: 9\n",
      "train: 100%|██████████| 562/562 [08:01<00:00,  1.17it/s, dice_loss - 0.04475, fscore - 0.9554]\n",
      "valid: 100%|██████████| 62/62 [00:22<00:00,  2.75it/s, dice_loss - 0.04579, fscore - 0.9543]\n",
      "Model saved!\n",
      "\n",
      "Epoch: 10\n",
      "train: 100%|██████████| 562/562 [08:01<00:00,  1.17it/s, dice_loss - 0.044, fscore - 0.9561]  \n",
      "valid: 100%|██████████| 62/62 [00:22<00:00,  2.78it/s, dice_loss - 0.04538, fscore - 0.9547]\n",
      "Model saved!\n",
      "\n",
      "Epoch: 11\n",
      "train: 100%|██████████| 562/562 [07:59<00:00,  1.17it/s, dice_loss - 0.04342, fscore - 0.9567]\n",
      "valid: 100%|██████████| 62/62 [00:22<00:00,  2.81it/s, dice_loss - 0.0447, fscore - 0.9554] \n",
      "Model saved!\n",
      "\n",
      "Epoch: 12\n",
      "train: 100%|██████████| 562/562 [07:58<00:00,  1.17it/s, dice_loss - 0.04277, fscore - 0.9573]\n",
      "valid: 100%|██████████| 62/62 [00:21<00:00,  2.83it/s, dice_loss - 0.04478, fscore - 0.9553]\n",
      "\n",
      "Epoch: 13\n",
      "train: 100%|██████████| 562/562 [07:59<00:00,  1.17it/s, dice_loss - 0.04225, fscore - 0.9578]\n",
      "valid: 100%|██████████| 62/62 [00:22<00:00,  2.72it/s, dice_loss - 0.04435, fscore - 0.9557]\n",
      "Model saved!\n",
      "\n",
      "Epoch: 14\n",
      "train: 100%|██████████| 562/562 [07:56<00:00,  1.18it/s, dice_loss - 0.0418, fscore - 0.9583] \n",
      "valid: 100%|██████████| 62/62 [00:22<00:00,  2.70it/s, dice_loss - 0.04429, fscore - 0.9558]\n",
      "Model saved!\n",
      "\n",
      "Epoch: 15\n",
      "train: 100%|██████████| 562/562 [07:58<00:00,  1.17it/s, dice_loss - 0.04138, fscore - 0.9587]\n",
      "valid: 100%|██████████| 62/62 [00:22<00:00,  2.73it/s, dice_loss - 0.04345, fscore - 0.9566]\n",
      "Model saved!\n",
      "\n",
      "Epoch: 16\n",
      "train: 100%|██████████| 562/562 [07:58<00:00,  1.17it/s, dice_loss - 0.04095, fscore - 0.9591]\n",
      "valid: 100%|██████████| 62/62 [00:23<00:00,  2.67it/s, dice_loss - 0.04334, fscore - 0.9567]\n",
      "Model saved!\n",
      "\n",
      "Epoch: 17\n",
      "train: 100%|██████████| 562/562 [08:00<00:00,  1.17it/s, dice_loss - 0.04056, fscore - 0.9595]\n",
      "valid: 100%|██████████| 62/62 [00:22<00:00,  2.77it/s, dice_loss - 0.04303, fscore - 0.957] \n",
      "Model saved!\n",
      "\n",
      "Epoch: 18\n",
      "train: 100%|██████████| 562/562 [07:58<00:00,  1.18it/s, dice_loss - 0.04024, fscore - 0.9598]\n",
      "valid: 100%|██████████| 62/62 [00:22<00:00,  2.82it/s, dice_loss - 0.04277, fscore - 0.9573]\n",
      "Model saved!\n",
      "\n",
      "Epoch: 19\n",
      "train: 100%|██████████| 562/562 [07:57<00:00,  1.18it/s, dice_loss - 0.0399, fscore - 0.9602] \n",
      "valid: 100%|██████████| 62/62 [00:23<00:00,  2.69it/s, dice_loss - 0.04246, fscore - 0.9576]\n",
      "Model saved!\n",
      "\n",
      "Epoch: 20\n",
      "train: 100%|██████████| 562/562 [08:01<00:00,  1.17it/s, dice_loss - 0.03963, fscore - 0.9604]\n",
      "valid: 100%|██████████| 62/62 [00:22<00:00,  2.79it/s, dice_loss - 0.04249, fscore - 0.9575]\n",
      "\n",
      "Epoch: 21\n",
      "train: 100%|██████████| 562/562 [08:00<00:00,  1.17it/s, dice_loss - 0.03937, fscore - 0.9607]\n",
      "valid: 100%|██████████| 62/62 [00:22<00:00,  2.80it/s, dice_loss - 0.04285, fscore - 0.9572]\n",
      "\n",
      "Epoch: 22\n",
      "train: 100%|██████████| 562/562 [07:59<00:00,  1.17it/s, dice_loss - 0.03914, fscore - 0.9609]\n",
      "valid: 100%|██████████| 62/62 [00:22<00:00,  2.75it/s, dice_loss - 0.0417, fscore - 0.9583] \n",
      "Model saved!\n",
      "\n",
      "Epoch: 23\n",
      "train: 100%|██████████| 562/562 [08:00<00:00,  1.17it/s, dice_loss - 0.03887, fscore - 0.9612]\n",
      "valid: 100%|██████████| 62/62 [00:22<00:00,  2.72it/s, dice_loss - 0.04155, fscore - 0.9585]\n",
      "Model saved!\n",
      "\n",
      "Epoch: 24\n",
      "train: 100%|██████████| 562/562 [08:00<00:00,  1.17it/s, dice_loss - 0.03857, fscore - 0.9615]\n",
      "valid: 100%|██████████| 62/62 [00:23<00:00,  2.64it/s, dice_loss - 0.04149, fscore - 0.9585]\n",
      "Model saved!\n",
      "\n",
      "Epoch: 25\n",
      "train: 100%|██████████| 562/562 [07:58<00:00,  1.17it/s, dice_loss - 0.03838, fscore - 0.9617]\n",
      "valid: 100%|██████████| 62/62 [00:22<00:00,  2.77it/s, dice_loss - 0.04134, fscore - 0.9587]\n",
      "Model saved!\n",
      "\n",
      "Epoch: 26\n",
      "train: 100%|██████████| 562/562 [08:00<00:00,  1.17it/s, dice_loss - 0.03818, fscore - 0.9619]\n",
      "valid: 100%|██████████| 62/62 [00:22<00:00,  2.78it/s, dice_loss - 0.04118, fscore - 0.9588]\n",
      "Model saved!\n",
      "\n",
      "Epoch: 27\n",
      "train: 100%|██████████| 562/562 [07:59<00:00,  1.17it/s, dice_loss - 0.03795, fscore - 0.9621]\n",
      "valid: 100%|██████████| 62/62 [00:22<00:00,  2.80it/s, dice_loss - 0.04103, fscore - 0.959] \n",
      "Model saved!\n",
      "\n",
      "Epoch: 28\n",
      "train: 100%|██████████| 562/562 [07:59<00:00,  1.17it/s, dice_loss - 0.03777, fscore - 0.9623]\n",
      "valid: 100%|██████████| 62/62 [00:23<00:00,  2.66it/s, dice_loss - 0.04102, fscore - 0.959] \n",
      "\n",
      "Epoch: 29\n",
      "train: 100%|██████████| 562/562 [07:57<00:00,  1.18it/s, dice_loss - 0.03759, fscore - 0.9624]\n",
      "valid: 100%|██████████| 62/62 [00:22<00:00,  2.75it/s, dice_loss - 0.04074, fscore - 0.9593]\n",
      "Model saved!\n"
     ]
    }
   ],
   "source": [
    "max_score = 0\n",
    "\n",
    "for i in range(0, 30): \n",
    "  print('\\nEpoch: {}'.format(i))\n",
    "  train_logs = train_epoch.run(train_loader)\n",
    "  valid_logs = valid_epoch.run(val_loader)\n",
    "  curr_score = valid_logs['fscore']\n",
    "\n",
    "  if max_score < curr_score:\n",
    "    max_score = curr_score\n",
    "    torch.save(model, 'best.pth')\n",
    "    print('Model saved!')\n",
    "\n",
    "  torch.save(model, 'last.pth')"
   ]
  },
  {
   "cell_type": "markdown",
   "metadata": {},
   "source": [
    "## Finetune"
   ]
  },
  {
   "cell_type": "code",
   "execution_count": 12,
   "metadata": {},
   "outputs": [],
   "source": [
    "model = torch.load(\"best.pth\")"
   ]
  },
  {
   "cell_type": "code",
   "execution_count": 13,
   "metadata": {},
   "outputs": [],
   "source": [
    "loss = smp.utils.losses.DiceLoss()\n",
    "\n",
    "metrics = [\n",
    "    smp.utils.metrics.Fscore(threshold=0.5),\n",
    "]\n",
    "\n",
    "optimizer = torch.optim.Adam([ \n",
    "    dict(params=model.parameters(), lr=0.0005),\n",
    "])"
   ]
  },
  {
   "cell_type": "code",
   "execution_count": 14,
   "metadata": {},
   "outputs": [],
   "source": [
    "DEVICE = 'cuda' if torch.cuda.is_available() else 'cpu'\n",
    "\n",
    "train_epoch = smp.utils.train.TrainEpoch(\n",
    "    model, \n",
    "    loss=loss, \n",
    "    metrics=metrics, \n",
    "    optimizer=optimizer,\n",
    "    device=DEVICE,\n",
    "    verbose=True,\n",
    ")\n",
    "\n",
    "valid_epoch = smp.utils.train.ValidEpoch(\n",
    "    model, \n",
    "    loss=loss, \n",
    "    metrics=metrics, \n",
    "    device=DEVICE,\n",
    "    verbose=True,\n",
    ")"
   ]
  },
  {
   "cell_type": "code",
   "execution_count": 15,
   "metadata": {
    "scrolled": true
   },
   "outputs": [
    {
     "name": "stdout",
     "output_type": "stream",
     "text": [
      "\n",
      "Epoch: 0\n",
      "train:   0%|          | 0/562 [00:00<?, ?it/s]"
     ]
    },
    {
     "name": "stderr",
     "output_type": "stream",
     "text": [
      "/home/featurize/work/.local/lib/python3.7/site-packages/torch/nn/functional.py:718: UserWarning: Named tensors and all their associated APIs are an experimental feature and subject to change. Please do not use them for anything important until they are released as stable. (Triggered internally at  /pytorch/c10/core/TensorImpl.h:1156.)\n",
      "  return torch.max_pool2d(input, kernel_size, stride, padding, dilation, ceil_mode)\n"
     ]
    },
    {
     "name": "stdout",
     "output_type": "stream",
     "text": [
      "train: 100%|██████████| 562/562 [07:50<00:00,  1.19it/s, dice_loss - 0.03621, fscore - 0.9638]\n",
      "valid: 100%|██████████| 62/62 [00:22<00:00,  2.77it/s, dice_loss - 0.03983, fscore - 0.9602]\n",
      "Model saved!\n",
      "\n",
      "Epoch: 1\n",
      "train: 100%|██████████| 562/562 [07:53<00:00,  1.19it/s, dice_loss - 0.03556, fscore - 0.9645]\n",
      "valid: 100%|██████████| 62/62 [00:22<00:00,  2.81it/s, dice_loss - 0.03951, fscore - 0.9605]\n",
      "Model saved!\n",
      "\n",
      "Epoch: 2\n",
      "train: 100%|██████████| 562/562 [07:49<00:00,  1.20it/s, dice_loss - 0.03522, fscore - 0.9648]\n",
      "valid: 100%|██████████| 62/62 [00:22<00:00,  2.77it/s, dice_loss - 0.03958, fscore - 0.9604]\n",
      "\n",
      "Epoch: 3\n",
      "train: 100%|██████████| 562/562 [07:52<00:00,  1.19it/s, dice_loss - 0.03492, fscore - 0.9651]\n",
      "valid: 100%|██████████| 62/62 [00:22<00:00,  2.80it/s, dice_loss - 0.03948, fscore - 0.9605]\n",
      "Model saved!\n",
      "\n",
      "Epoch: 4\n",
      "train: 100%|██████████| 562/562 [07:51<00:00,  1.19it/s, dice_loss - 0.03466, fscore - 0.9654]\n",
      "valid: 100%|██████████| 62/62 [00:22<00:00,  2.82it/s, dice_loss - 0.03933, fscore - 0.9607]\n",
      "Model saved!\n",
      "\n",
      "Epoch: 5\n",
      "train: 100%|██████████| 562/562 [07:51<00:00,  1.19it/s, dice_loss - 0.03442, fscore - 0.9656]\n",
      "valid: 100%|██████████| 62/62 [00:22<00:00,  2.81it/s, dice_loss - 0.03918, fscore - 0.9608]\n",
      "Model saved!\n",
      "\n",
      "Epoch: 6\n",
      "train: 100%|██████████| 562/562 [07:50<00:00,  1.19it/s, dice_loss - 0.03416, fscore - 0.9659]\n",
      "valid: 100%|██████████| 62/62 [00:22<00:00,  2.82it/s, dice_loss - 0.03921, fscore - 0.9608]\n",
      "\n",
      "Epoch: 7\n",
      "train: 100%|██████████| 562/562 [07:54<00:00,  1.19it/s, dice_loss - 0.03391, fscore - 0.9661]\n",
      "valid: 100%|██████████| 62/62 [00:21<00:00,  2.84it/s, dice_loss - 0.03912, fscore - 0.9609]\n",
      "Model saved!\n",
      "\n",
      "Epoch: 8\n",
      "train: 100%|██████████| 562/562 [07:49<00:00,  1.20it/s, dice_loss - 0.03365, fscore - 0.9664]\n",
      "valid: 100%|██████████| 62/62 [00:21<00:00,  2.82it/s, dice_loss - 0.03909, fscore - 0.9609]\n",
      "Model saved!\n",
      "\n",
      "Epoch: 9\n",
      "train: 100%|██████████| 562/562 [07:53<00:00,  1.19it/s, dice_loss - 0.0334, fscore - 0.9666] \n",
      "valid: 100%|██████████| 62/62 [00:22<00:00,  2.79it/s, dice_loss - 0.03897, fscore - 0.9611]\n",
      "Model saved!\n",
      "\n",
      "Epoch: 10\n",
      "train: 100%|██████████| 562/562 [07:52<00:00,  1.19it/s, dice_loss - 0.03313, fscore - 0.9669]\n",
      "valid: 100%|██████████| 62/62 [00:22<00:00,  2.78it/s, dice_loss - 0.03895, fscore - 0.9611]\n",
      "Model saved!\n",
      "\n",
      "Epoch: 11\n",
      "train: 100%|██████████| 562/562 [07:52<00:00,  1.19it/s, dice_loss - 0.03285, fscore - 0.9672]\n",
      "valid: 100%|██████████| 62/62 [00:22<00:00,  2.79it/s, dice_loss - 0.03889, fscore - 0.9611]\n",
      "Model saved!\n",
      "\n",
      "Epoch: 12\n",
      "train: 100%|██████████| 562/562 [07:51<00:00,  1.19it/s, dice_loss - 0.03258, fscore - 0.9675]\n",
      "valid: 100%|██████████| 62/62 [00:21<00:00,  2.86it/s, dice_loss - 0.03879, fscore - 0.9612]\n",
      "Model saved!\n",
      "\n",
      "Epoch: 13\n",
      "train: 100%|██████████| 562/562 [07:50<00:00,  1.19it/s, dice_loss - 0.03231, fscore - 0.9677]\n",
      "valid: 100%|██████████| 62/62 [00:22<00:00,  2.80it/s, dice_loss - 0.03874, fscore - 0.9613]\n",
      "Model saved!\n",
      "\n",
      "Epoch: 14\n",
      "train: 100%|██████████| 562/562 [07:53<00:00,  1.19it/s, dice_loss - 0.03203, fscore - 0.968] \n",
      "valid: 100%|██████████| 62/62 [00:21<00:00,  2.89it/s, dice_loss - 0.0387, fscore - 0.9613] \n",
      "Model saved!\n",
      "\n",
      "Epoch: 15\n",
      "train: 100%|██████████| 562/562 [07:51<00:00,  1.19it/s, dice_loss - 0.03175, fscore - 0.9683]\n",
      "valid: 100%|██████████| 62/62 [00:21<00:00,  2.86it/s, dice_loss - 0.03864, fscore - 0.9614]\n",
      "Model saved!\n",
      "\n",
      "Epoch: 16\n",
      "train: 100%|██████████| 562/562 [07:53<00:00,  1.19it/s, dice_loss - 0.03147, fscore - 0.9686]\n",
      "valid: 100%|██████████| 62/62 [00:21<00:00,  2.83it/s, dice_loss - 0.03857, fscore - 0.9615]\n",
      "Model saved!\n",
      "\n",
      "Epoch: 17\n",
      "train: 100%|██████████| 562/562 [07:50<00:00,  1.20it/s, dice_loss - 0.0312, fscore - 0.9689] \n",
      "valid: 100%|██████████| 62/62 [00:22<00:00,  2.71it/s, dice_loss - 0.03852, fscore - 0.9615]\n",
      "Model saved!\n",
      "\n",
      "Epoch: 18\n",
      "train: 100%|██████████| 562/562 [07:53<00:00,  1.19it/s, dice_loss - 0.03092, fscore - 0.9691]\n",
      "valid: 100%|██████████| 62/62 [00:22<00:00,  2.81it/s, dice_loss - 0.03847, fscore - 0.9616]\n",
      "Model saved!\n",
      "\n",
      "Epoch: 19\n",
      "train: 100%|██████████| 562/562 [07:49<00:00,  1.20it/s, dice_loss - 0.03066, fscore - 0.9694]\n",
      "valid: 100%|██████████| 62/62 [00:22<00:00,  2.76it/s, dice_loss - 0.03847, fscore - 0.9616]\n",
      "Model saved!\n",
      "\n",
      "Epoch: 20\n",
      "train: 100%|██████████| 562/562 [07:49<00:00,  1.20it/s, dice_loss - 0.03042, fscore - 0.9696]\n",
      "valid: 100%|██████████| 62/62 [00:22<00:00,  2.82it/s, dice_loss - 0.03849, fscore - 0.9615]\n",
      "\n",
      "Epoch: 21\n",
      "train: 100%|██████████| 562/562 [07:57<00:00,  1.18it/s, dice_loss - 0.03018, fscore - 0.9699]\n",
      "valid: 100%|██████████| 62/62 [00:22<00:00,  2.77it/s, dice_loss - 0.03845, fscore - 0.9616]\n",
      "Model saved!\n",
      "\n",
      "Epoch: 22\n",
      "train: 100%|██████████| 562/562 [07:59<00:00,  1.17it/s, dice_loss - 0.02998, fscore - 0.9701]\n",
      "valid: 100%|██████████| 62/62 [00:23<00:00,  2.64it/s, dice_loss - 0.03843, fscore - 0.9616]\n",
      "Model saved!\n",
      "\n",
      "Epoch: 23\n",
      "train:  27%|██▋       | 153/562 [02:10<05:50,  1.17it/s, dice_loss - 0.02981, fscore - 0.9703]\n"
     ]
    },
    {
     "ename": "KeyboardInterrupt",
     "evalue": "",
     "output_type": "error",
     "traceback": [
      "\u001b[0;31m---------------------------------------------------------------------------\u001b[0m",
      "\u001b[0;31mKeyboardInterrupt\u001b[0m                         Traceback (most recent call last)",
      "\u001b[0;32m<ipython-input-15-9e37c35c7788>\u001b[0m in \u001b[0;36m<module>\u001b[0;34m\u001b[0m\n\u001b[1;32m      5\u001b[0m \u001b[0;32mfor\u001b[0m \u001b[0mi\u001b[0m \u001b[0;32min\u001b[0m \u001b[0mrange\u001b[0m\u001b[0;34m(\u001b[0m\u001b[0;36m0\u001b[0m\u001b[0;34m,\u001b[0m \u001b[0;36m30\u001b[0m\u001b[0;34m)\u001b[0m\u001b[0;34m:\u001b[0m\u001b[0;34m\u001b[0m\u001b[0;34m\u001b[0m\u001b[0m\n\u001b[1;32m      6\u001b[0m   \u001b[0mprint\u001b[0m\u001b[0;34m(\u001b[0m\u001b[0;34m'\\nEpoch: {}'\u001b[0m\u001b[0;34m.\u001b[0m\u001b[0mformat\u001b[0m\u001b[0;34m(\u001b[0m\u001b[0mi\u001b[0m\u001b[0;34m)\u001b[0m\u001b[0;34m)\u001b[0m\u001b[0;34m\u001b[0m\u001b[0;34m\u001b[0m\u001b[0m\n\u001b[0;32m----> 7\u001b[0;31m   \u001b[0mtrain_logs\u001b[0m \u001b[0;34m=\u001b[0m \u001b[0mtrain_epoch\u001b[0m\u001b[0;34m.\u001b[0m\u001b[0mrun\u001b[0m\u001b[0;34m(\u001b[0m\u001b[0mtrain_loader\u001b[0m\u001b[0;34m)\u001b[0m\u001b[0;34m\u001b[0m\u001b[0;34m\u001b[0m\u001b[0m\n\u001b[0m\u001b[1;32m      8\u001b[0m   \u001b[0mvalid_logs\u001b[0m \u001b[0;34m=\u001b[0m \u001b[0mvalid_epoch\u001b[0m\u001b[0;34m.\u001b[0m\u001b[0mrun\u001b[0m\u001b[0;34m(\u001b[0m\u001b[0mval_loader\u001b[0m\u001b[0;34m)\u001b[0m\u001b[0;34m\u001b[0m\u001b[0;34m\u001b[0m\u001b[0m\n\u001b[1;32m      9\u001b[0m   \u001b[0mcurr_score\u001b[0m \u001b[0;34m=\u001b[0m \u001b[0mvalid_logs\u001b[0m\u001b[0;34m[\u001b[0m\u001b[0;34m'fscore'\u001b[0m\u001b[0;34m]\u001b[0m\u001b[0;34m\u001b[0m\u001b[0;34m\u001b[0m\u001b[0m\n",
      "\u001b[0;32m~/work/.local/lib/python3.7/site-packages/segmentation_models_pytorch/utils/train.py\u001b[0m in \u001b[0;36mrun\u001b[0;34m(self, dataloader)\u001b[0m\n\u001b[1;32m     45\u001b[0m             \u001b[0;32mfor\u001b[0m \u001b[0mx\u001b[0m\u001b[0;34m,\u001b[0m \u001b[0my\u001b[0m \u001b[0;32min\u001b[0m \u001b[0miterator\u001b[0m\u001b[0;34m:\u001b[0m\u001b[0;34m\u001b[0m\u001b[0;34m\u001b[0m\u001b[0m\n\u001b[1;32m     46\u001b[0m                 \u001b[0mx\u001b[0m\u001b[0;34m,\u001b[0m \u001b[0my\u001b[0m \u001b[0;34m=\u001b[0m \u001b[0mx\u001b[0m\u001b[0;34m.\u001b[0m\u001b[0mto\u001b[0m\u001b[0;34m(\u001b[0m\u001b[0mself\u001b[0m\u001b[0;34m.\u001b[0m\u001b[0mdevice\u001b[0m\u001b[0;34m)\u001b[0m\u001b[0;34m,\u001b[0m \u001b[0my\u001b[0m\u001b[0;34m.\u001b[0m\u001b[0mto\u001b[0m\u001b[0;34m(\u001b[0m\u001b[0mself\u001b[0m\u001b[0;34m.\u001b[0m\u001b[0mdevice\u001b[0m\u001b[0;34m)\u001b[0m\u001b[0;34m\u001b[0m\u001b[0;34m\u001b[0m\u001b[0m\n\u001b[0;32m---> 47\u001b[0;31m                 \u001b[0mloss\u001b[0m\u001b[0;34m,\u001b[0m \u001b[0my_pred\u001b[0m \u001b[0;34m=\u001b[0m \u001b[0mself\u001b[0m\u001b[0;34m.\u001b[0m\u001b[0mbatch_update\u001b[0m\u001b[0;34m(\u001b[0m\u001b[0mx\u001b[0m\u001b[0;34m,\u001b[0m \u001b[0my\u001b[0m\u001b[0;34m)\u001b[0m\u001b[0;34m\u001b[0m\u001b[0;34m\u001b[0m\u001b[0m\n\u001b[0m\u001b[1;32m     48\u001b[0m \u001b[0;34m\u001b[0m\u001b[0m\n\u001b[1;32m     49\u001b[0m                 \u001b[0;31m# update loss logs\u001b[0m\u001b[0;34m\u001b[0m\u001b[0;34m\u001b[0m\u001b[0;34m\u001b[0m\u001b[0m\n",
      "\u001b[0;32m~/work/.local/lib/python3.7/site-packages/segmentation_models_pytorch/utils/train.py\u001b[0m in \u001b[0;36mbatch_update\u001b[0;34m(self, x, y)\u001b[0m\n\u001b[1;32m     88\u001b[0m         \u001b[0mloss\u001b[0m \u001b[0;34m=\u001b[0m \u001b[0mself\u001b[0m\u001b[0;34m.\u001b[0m\u001b[0mloss\u001b[0m\u001b[0;34m(\u001b[0m\u001b[0mprediction\u001b[0m\u001b[0;34m,\u001b[0m \u001b[0my\u001b[0m\u001b[0;34m)\u001b[0m\u001b[0;34m\u001b[0m\u001b[0;34m\u001b[0m\u001b[0m\n\u001b[1;32m     89\u001b[0m         \u001b[0mloss\u001b[0m\u001b[0;34m.\u001b[0m\u001b[0mbackward\u001b[0m\u001b[0;34m(\u001b[0m\u001b[0;34m)\u001b[0m\u001b[0;34m\u001b[0m\u001b[0;34m\u001b[0m\u001b[0m\n\u001b[0;32m---> 90\u001b[0;31m         \u001b[0mself\u001b[0m\u001b[0;34m.\u001b[0m\u001b[0moptimizer\u001b[0m\u001b[0;34m.\u001b[0m\u001b[0mstep\u001b[0m\u001b[0;34m(\u001b[0m\u001b[0;34m)\u001b[0m\u001b[0;34m\u001b[0m\u001b[0;34m\u001b[0m\u001b[0m\n\u001b[0m\u001b[1;32m     91\u001b[0m         \u001b[0;32mreturn\u001b[0m \u001b[0mloss\u001b[0m\u001b[0;34m,\u001b[0m \u001b[0mprediction\u001b[0m\u001b[0;34m\u001b[0m\u001b[0;34m\u001b[0m\u001b[0m\n\u001b[1;32m     92\u001b[0m \u001b[0;34m\u001b[0m\u001b[0m\n",
      "\u001b[0;32m~/work/.local/lib/python3.7/site-packages/torch/optim/lr_scheduler.py\u001b[0m in \u001b[0;36mwrapper\u001b[0;34m(*args, **kwargs)\u001b[0m\n\u001b[1;32m     63\u001b[0m                 \u001b[0minstance\u001b[0m\u001b[0;34m.\u001b[0m\u001b[0m_step_count\u001b[0m \u001b[0;34m+=\u001b[0m \u001b[0;36m1\u001b[0m\u001b[0;34m\u001b[0m\u001b[0;34m\u001b[0m\u001b[0m\n\u001b[1;32m     64\u001b[0m                 \u001b[0mwrapped\u001b[0m \u001b[0;34m=\u001b[0m \u001b[0mfunc\u001b[0m\u001b[0;34m.\u001b[0m\u001b[0m__get__\u001b[0m\u001b[0;34m(\u001b[0m\u001b[0minstance\u001b[0m\u001b[0;34m,\u001b[0m \u001b[0mcls\u001b[0m\u001b[0;34m)\u001b[0m\u001b[0;34m\u001b[0m\u001b[0;34m\u001b[0m\u001b[0m\n\u001b[0;32m---> 65\u001b[0;31m                 \u001b[0;32mreturn\u001b[0m \u001b[0mwrapped\u001b[0m\u001b[0;34m(\u001b[0m\u001b[0;34m*\u001b[0m\u001b[0margs\u001b[0m\u001b[0;34m,\u001b[0m \u001b[0;34m**\u001b[0m\u001b[0mkwargs\u001b[0m\u001b[0;34m)\u001b[0m\u001b[0;34m\u001b[0m\u001b[0;34m\u001b[0m\u001b[0m\n\u001b[0m\u001b[1;32m     66\u001b[0m \u001b[0;34m\u001b[0m\u001b[0m\n\u001b[1;32m     67\u001b[0m             \u001b[0;31m# Note that the returned function here is no longer a bound method,\u001b[0m\u001b[0;34m\u001b[0m\u001b[0;34m\u001b[0m\u001b[0;34m\u001b[0m\u001b[0m\n",
      "\u001b[0;32m~/work/.local/lib/python3.7/site-packages/torch/optim/optimizer.py\u001b[0m in \u001b[0;36mwrapper\u001b[0;34m(*args, **kwargs)\u001b[0m\n\u001b[1;32m     86\u001b[0m                 \u001b[0mprofile_name\u001b[0m \u001b[0;34m=\u001b[0m \u001b[0;34m\"Optimizer.step#{}.step\"\u001b[0m\u001b[0;34m.\u001b[0m\u001b[0mformat\u001b[0m\u001b[0;34m(\u001b[0m\u001b[0mobj\u001b[0m\u001b[0;34m.\u001b[0m\u001b[0m__class__\u001b[0m\u001b[0;34m.\u001b[0m\u001b[0m__name__\u001b[0m\u001b[0;34m)\u001b[0m\u001b[0;34m\u001b[0m\u001b[0;34m\u001b[0m\u001b[0m\n\u001b[1;32m     87\u001b[0m                 \u001b[0;32mwith\u001b[0m \u001b[0mtorch\u001b[0m\u001b[0;34m.\u001b[0m\u001b[0mautograd\u001b[0m\u001b[0;34m.\u001b[0m\u001b[0mprofiler\u001b[0m\u001b[0;34m.\u001b[0m\u001b[0mrecord_function\u001b[0m\u001b[0;34m(\u001b[0m\u001b[0mprofile_name\u001b[0m\u001b[0;34m)\u001b[0m\u001b[0;34m:\u001b[0m\u001b[0;34m\u001b[0m\u001b[0;34m\u001b[0m\u001b[0m\n\u001b[0;32m---> 88\u001b[0;31m                     \u001b[0;32mreturn\u001b[0m \u001b[0mfunc\u001b[0m\u001b[0;34m(\u001b[0m\u001b[0;34m*\u001b[0m\u001b[0margs\u001b[0m\u001b[0;34m,\u001b[0m \u001b[0;34m**\u001b[0m\u001b[0mkwargs\u001b[0m\u001b[0;34m)\u001b[0m\u001b[0;34m\u001b[0m\u001b[0;34m\u001b[0m\u001b[0m\n\u001b[0m\u001b[1;32m     89\u001b[0m             \u001b[0;32mreturn\u001b[0m \u001b[0mwrapper\u001b[0m\u001b[0;34m\u001b[0m\u001b[0;34m\u001b[0m\u001b[0m\n\u001b[1;32m     90\u001b[0m \u001b[0;34m\u001b[0m\u001b[0m\n",
      "\u001b[0;32m~/work/.local/lib/python3.7/site-packages/torch/autograd/grad_mode.py\u001b[0m in \u001b[0;36mdecorate_context\u001b[0;34m(*args, **kwargs)\u001b[0m\n\u001b[1;32m     26\u001b[0m         \u001b[0;32mdef\u001b[0m \u001b[0mdecorate_context\u001b[0m\u001b[0;34m(\u001b[0m\u001b[0;34m*\u001b[0m\u001b[0margs\u001b[0m\u001b[0;34m,\u001b[0m \u001b[0;34m**\u001b[0m\u001b[0mkwargs\u001b[0m\u001b[0;34m)\u001b[0m\u001b[0;34m:\u001b[0m\u001b[0;34m\u001b[0m\u001b[0;34m\u001b[0m\u001b[0m\n\u001b[1;32m     27\u001b[0m             \u001b[0;32mwith\u001b[0m \u001b[0mself\u001b[0m\u001b[0;34m.\u001b[0m\u001b[0m__class__\u001b[0m\u001b[0;34m(\u001b[0m\u001b[0;34m)\u001b[0m\u001b[0;34m:\u001b[0m\u001b[0;34m\u001b[0m\u001b[0;34m\u001b[0m\u001b[0m\n\u001b[0;32m---> 28\u001b[0;31m                 \u001b[0;32mreturn\u001b[0m \u001b[0mfunc\u001b[0m\u001b[0;34m(\u001b[0m\u001b[0;34m*\u001b[0m\u001b[0margs\u001b[0m\u001b[0;34m,\u001b[0m \u001b[0;34m**\u001b[0m\u001b[0mkwargs\u001b[0m\u001b[0;34m)\u001b[0m\u001b[0;34m\u001b[0m\u001b[0;34m\u001b[0m\u001b[0m\n\u001b[0m\u001b[1;32m     29\u001b[0m         \u001b[0;32mreturn\u001b[0m \u001b[0mcast\u001b[0m\u001b[0;34m(\u001b[0m\u001b[0mF\u001b[0m\u001b[0;34m,\u001b[0m \u001b[0mdecorate_context\u001b[0m\u001b[0;34m)\u001b[0m\u001b[0;34m\u001b[0m\u001b[0;34m\u001b[0m\u001b[0m\n\u001b[1;32m     30\u001b[0m \u001b[0;34m\u001b[0m\u001b[0m\n",
      "\u001b[0;32m~/work/.local/lib/python3.7/site-packages/torch/optim/adam.py\u001b[0m in \u001b[0;36mstep\u001b[0;34m(self, closure)\u001b[0m\n\u001b[1;32m    116\u001b[0m                    \u001b[0mlr\u001b[0m\u001b[0;34m=\u001b[0m\u001b[0mgroup\u001b[0m\u001b[0;34m[\u001b[0m\u001b[0;34m'lr'\u001b[0m\u001b[0;34m]\u001b[0m\u001b[0;34m,\u001b[0m\u001b[0;34m\u001b[0m\u001b[0;34m\u001b[0m\u001b[0m\n\u001b[1;32m    117\u001b[0m                    \u001b[0mweight_decay\u001b[0m\u001b[0;34m=\u001b[0m\u001b[0mgroup\u001b[0m\u001b[0;34m[\u001b[0m\u001b[0;34m'weight_decay'\u001b[0m\u001b[0;34m]\u001b[0m\u001b[0;34m,\u001b[0m\u001b[0;34m\u001b[0m\u001b[0;34m\u001b[0m\u001b[0m\n\u001b[0;32m--> 118\u001b[0;31m                    eps=group['eps'])\n\u001b[0m\u001b[1;32m    119\u001b[0m         \u001b[0;32mreturn\u001b[0m \u001b[0mloss\u001b[0m\u001b[0;34m\u001b[0m\u001b[0;34m\u001b[0m\u001b[0m\n",
      "\u001b[0;32m~/work/.local/lib/python3.7/site-packages/torch/optim/_functional.py\u001b[0m in \u001b[0;36madam\u001b[0;34m(params, grads, exp_avgs, exp_avg_sqs, max_exp_avg_sqs, state_steps, amsgrad, beta1, beta2, lr, weight_decay, eps)\u001b[0m\n\u001b[1;32m     84\u001b[0m \u001b[0;34m\u001b[0m\u001b[0m\n\u001b[1;32m     85\u001b[0m         \u001b[0;31m# Decay the first and second moment running average coefficient\u001b[0m\u001b[0;34m\u001b[0m\u001b[0;34m\u001b[0m\u001b[0;34m\u001b[0m\u001b[0m\n\u001b[0;32m---> 86\u001b[0;31m         \u001b[0mexp_avg\u001b[0m\u001b[0;34m.\u001b[0m\u001b[0mmul_\u001b[0m\u001b[0;34m(\u001b[0m\u001b[0mbeta1\u001b[0m\u001b[0;34m)\u001b[0m\u001b[0;34m.\u001b[0m\u001b[0madd_\u001b[0m\u001b[0;34m(\u001b[0m\u001b[0mgrad\u001b[0m\u001b[0;34m,\u001b[0m \u001b[0malpha\u001b[0m\u001b[0;34m=\u001b[0m\u001b[0;36m1\u001b[0m \u001b[0;34m-\u001b[0m \u001b[0mbeta1\u001b[0m\u001b[0;34m)\u001b[0m\u001b[0;34m\u001b[0m\u001b[0;34m\u001b[0m\u001b[0m\n\u001b[0m\u001b[1;32m     87\u001b[0m         \u001b[0mexp_avg_sq\u001b[0m\u001b[0;34m.\u001b[0m\u001b[0mmul_\u001b[0m\u001b[0;34m(\u001b[0m\u001b[0mbeta2\u001b[0m\u001b[0;34m)\u001b[0m\u001b[0;34m.\u001b[0m\u001b[0maddcmul_\u001b[0m\u001b[0;34m(\u001b[0m\u001b[0mgrad\u001b[0m\u001b[0;34m,\u001b[0m \u001b[0mgrad\u001b[0m\u001b[0;34m,\u001b[0m \u001b[0mvalue\u001b[0m\u001b[0;34m=\u001b[0m\u001b[0;36m1\u001b[0m \u001b[0;34m-\u001b[0m \u001b[0mbeta2\u001b[0m\u001b[0;34m)\u001b[0m\u001b[0;34m\u001b[0m\u001b[0;34m\u001b[0m\u001b[0m\n\u001b[1;32m     88\u001b[0m         \u001b[0;32mif\u001b[0m \u001b[0mamsgrad\u001b[0m\u001b[0;34m:\u001b[0m\u001b[0;34m\u001b[0m\u001b[0;34m\u001b[0m\u001b[0m\n",
      "\u001b[0;31mKeyboardInterrupt\u001b[0m: "
     ]
    }
   ],
   "source": [
    "from torch.optim.lr_scheduler import CosineAnnealingLR\n",
    "scheduler = CosineAnnealingLR(optimizer, T_max=30)\n",
    "max_score = 0\n",
    "\n",
    "for i in range(0, 30): \n",
    "  print('\\nEpoch: {}'.format(i))\n",
    "  train_logs = train_epoch.run(train_loader)\n",
    "  valid_logs = valid_epoch.run(val_loader)\n",
    "  curr_score = valid_logs['fscore']\n",
    "\n",
    "  if max_score < curr_score:\n",
    "    max_score = curr_score\n",
    "    torch.save(model, 'best.pth')\n",
    "    print('Model saved!')\n",
    "    \n",
    "  scheduler.step()\n",
    "\n",
    "  torch.save(model, 'last.pth')"
   ]
  },
  {
   "cell_type": "markdown",
   "metadata": {
    "id": "gv02zbjrSpQ0"
   },
   "source": [
    "# Submitting Results 📄\n",
    "\n",
    "Okay, this is the last section 😌 , let's get out testing results from the model real quick and submit our prediction directly using AIcrowd CLI"
   ]
  },
  {
   "cell_type": "code",
   "execution_count": 16,
   "metadata": {
    "id": "L3SUTZuRqzS4"
   },
   "outputs": [],
   "source": [
    "model = torch.load(\"best.pth\")"
   ]
  },
  {
   "cell_type": "code",
   "execution_count": 17,
   "metadata": {
    "colab": {
     "base_uri": "https://localhost:8080/"
    },
    "executionInfo": {
     "elapsed": 16265,
     "status": "ok",
     "timestamp": 1627740859596,
     "user": {
      "displayName": "Martinez Stark",
      "photoUrl": "",
      "userId": "15125435938317481871"
     },
     "user_tz": -480
    },
    "id": "zmZ0HKfzjAWN",
    "outputId": "0ae1f90f-dfc3-4b70-c32e-eb020277136d"
   },
   "outputs": [
    {
     "name": "stdout",
     "output_type": "stream",
     "text": [
      "valid: 100%|██████████| 62/62 [00:22<00:00,  2.76it/s, dice_loss - 0.03842, fscore - 0.9616]\n",
      "0.9616008910440632\n"
     ]
    }
   ],
   "source": [
    "test_epoch = smp.utils.train.ValidEpoch(\n",
    "    model, \n",
    "    loss=loss, \n",
    "    metrics=metrics, \n",
    "    device=DEVICE,\n",
    "    verbose=True,\n",
    ")\n",
    "test_logs = test_epoch.run(val_loader)\n",
    "print(test_logs['fscore'])"
   ]
  },
  {
   "cell_type": "markdown",
   "metadata": {
    "id": "6MzsQxzWLDTg"
   },
   "source": [
    "## Loading the Test Dataset"
   ]
  },
  {
   "cell_type": "code",
   "execution_count": 18,
   "metadata": {
    "id": "eQiIwci1So3Q"
   },
   "outputs": [],
   "source": [
    "test_dataset = TreeSegmentationDataset(img_directory=\"data/test/image\", mode='test')\n",
    "test_loader = DataLoader(test_dataset, batch_size=8, shuffle=False, drop_last=False)"
   ]
  },
  {
   "cell_type": "markdown",
   "metadata": {
    "id": "CMFR4fIDLEzn"
   },
   "source": [
    "## Making the Predictions"
   ]
  },
  {
   "cell_type": "code",
   "execution_count": 19,
   "metadata": {
    "colab": {
     "base_uri": "https://localhost:8080/",
     "height": 49,
     "referenced_widgets": [
      "e6d2587531ad4285a685f1f34de7f3aa",
      "9bb90ebcf4ad40629bc136888ede5ac7",
      "a40a954e3dd44bd6818b2359f41ac10d",
      "80ab8176e8ee4c678f057c9945ba64ff",
      "c55ad801bbea45f8bb1ff9f53b504ff3",
      "9e3a3f8ddc724afab375d7f9351f0117",
      "08e0ea118c214d429ce1c84602a51447",
      "d19240111f114cffb2ab2c95711545cc",
      "1a79ba2978e34890adaf2873def6f810",
      "e32186f5aa334e098877b4e98b808545",
      "8550d5466ac145c6bd58c0c31116f325"
     ]
    },
    "executionInfo": {
     "elapsed": 147650,
     "status": "ok",
     "timestamp": 1627741014706,
     "user": {
      "displayName": "Martinez Stark",
      "photoUrl": "",
      "userId": "15125435938317481871"
     },
     "user_tz": -480
    },
    "id": "EWENLJG0SbDS",
    "outputId": "946ff5e8-380e-4ca4-ee0d-d7902ab799be"
   },
   "outputs": [
    {
     "data": {
      "application/vnd.jupyter.widget-view+json": {
       "model_id": "46bbc23dc05542f497f5020a9dd955e3",
       "version_major": 2,
       "version_minor": 0
      },
      "text/plain": [
       "HBox(children=(HTML(value=''), FloatProgress(value=0.0, max=625.0), HTML(value='')))"
      ]
     },
     "metadata": {},
     "output_type": "display_data"
    },
    {
     "name": "stdout",
     "output_type": "stream",
     "text": [
      "\n"
     ]
    }
   ],
   "source": [
    "predictions = []\n",
    "\n",
    "# Ground though each test batch and adding predictions  \n",
    "for images in tqdm(test_loader):\n",
    "  prediction = model.predict(images.to(DEVICE))\n",
    "  predictions.extend(prediction.cpu().numpy())"
   ]
  },
  {
   "cell_type": "code",
   "execution_count": 20,
   "metadata": {
    "colab": {
     "base_uri": "https://localhost:8080/",
     "height": 49,
     "referenced_widgets": [
      "cc6dac33803e418aa8d5cc7dc1b6e6ef",
      "6c91342d90774fd0b0d127eba8816675",
      "00908d4721b14414b366c4bd8dc5d969",
      "690a6267d09f49f29e85a3662a0df5b5",
      "041765904151444789f17f77536e9828",
      "29848ca15b3c4a5c96b45093fb2abfbb",
      "6dc8df0685d04004a66739a0847a8d6d",
      "8a22eeacbdcb4f239258e879697d6f61",
      "4856e30eda034df0815409530134a2db",
      "5b968430554a452180bdc006b9130e12",
      "0e734c6e940f4d35bedcf6f1eca40d30"
     ]
    },
    "executionInfo": {
     "elapsed": 44668,
     "status": "ok",
     "timestamp": 1627741060363,
     "user": {
      "displayName": "Martinez Stark",
      "photoUrl": "",
      "userId": "15125435938317481871"
     },
     "user_tz": -480
    },
    "id": "MLfwZlZUXP6Z",
    "outputId": "987b84f0-1363-433f-a836-a847a700a561"
   },
   "outputs": [
    {
     "data": {
      "application/vnd.jupyter.widget-view+json": {
       "model_id": "2404d37ca27d45efa06340bbc0ba310e",
       "version_major": 2,
       "version_minor": 0
      },
      "text/plain": [
       "HBox(children=(HTML(value=''), FloatProgress(value=1.0, bar_style='info', layout=Layout(width='20px'), max=1.0…"
      ]
     },
     "metadata": {},
     "output_type": "display_data"
    },
    {
     "name": "stdout",
     "output_type": "stream",
     "text": [
      "\n"
     ]
    }
   ],
   "source": [
    "!rm -rf segmentation\n",
    "!mkdir segmentation\n",
    "\n",
    "for n, img in tqdm(enumerate(predictions)):\n",
    "\n",
    "  img = img[0]\n",
    "\n",
    "  img = np.where(img >= 0.5, 255, 0)\n",
    "\n",
    "  # Making sure the pixels are only 0 and 255 in the image. \n",
    "  img = Image.fromarray(img.astype(np.uint8))\n",
    "\n",
    "  img.save(os.path.join(\"segmentation\", f\"{n}.png\"))"
   ]
  },
  {
   "cell_type": "code",
   "execution_count": 21,
   "metadata": {
    "colab": {
     "base_uri": "https://localhost:8080/",
     "height": 269
    },
    "executionInfo": {
     "elapsed": 763,
     "status": "ok",
     "timestamp": 1627741061108,
     "user": {
      "displayName": "Martinez Stark",
      "photoUrl": "",
      "userId": "15125435938317481871"
     },
     "user_tz": -480
    },
    "id": "GhNdyajJnJSU",
    "outputId": "c3bf0def-e7f6-4047-caa4-09b98069cbfb"
   },
   "outputs": [
    {
     "data": {
      "image/png": "[encoded data removed]",
      "text/plain": [
       "<Figure size 432x288 with 1 Axes>"
      ]
     },
     "metadata": {
      "needs_background": "light"
     },
     "output_type": "display_data"
    }
   ],
   "source": [
    "image = predictions[-1][0]\n",
    "plt.figure()\n",
    "plt.imshow(image, 'jet', interpolation='none', alpha=0.7)\n",
    "plt.show()"
   ]
  },
  {
   "cell_type": "markdown",
   "metadata": {
    "id": "dMZid-z-LYte"
   },
   "source": [
    "\n",
    "**Note : Please make sure that there should be folder `segmentation` your working directory before submitting the predictions**"
   ]
  },
  {
   "cell_type": "markdown",
   "metadata": {
    "id": "n4_7EZF2yd4F"
   },
   "source": [
    "## Uploading the Results"
   ]
  }
 ],
 "metadata": {
  "accelerator": "GPU",
  "colab": {
   "collapsed_sections": [],
   "name": "Tree Segmentation augment",
   "provenance": [
    {
     "file_id": "https://gist.github.com/aicrowd-bot/db6cc38cd3b601e626b367619abf7cd6",
     "timestamp": 1627057248341
    }
   ]
  },
  "kernelspec": {
   "display_name": "Python 3",
   "language": "python",
   "name": "python3"
  },
  "language_info": {
   "codemirror_mode": {
    "name": "ipython",
    "version": 3
   },
   "file_extension": ".py",
   "mimetype": "text/x-python",
   "name": "python",
   "nbconvert_exporter": "python",
   "pygments_lexer": "ipython3",
   "version": "3.6.13"
  },
  "widgets": {
   "application/vnd.jupyter.widget-state+json": {
    "00908d4721b14414b366c4bd8dc5d969": {
     "model_module": "@jupyter-widgets/controls",
     "model_name": "HTMLModel",
     "state": {
      "_dom_classes": [],
      "_model_module": "@jupyter-widgets/controls",
      "_model_module_version": "1.5.0",
      "_model_name": "HTMLModel",
      "_view_count": null,
      "_view_module": "@jupyter-widgets/controls",
      "_view_module_version": "1.5.0",
      "_view_name": "HTMLView",
      "description": "",
      "description_tooltip": null,
      "layout": "IPY_MODEL_6dc8df0685d04004a66739a0847a8d6d",
      "placeholder": "​",
      "style": "IPY_MODEL_29848ca15b3c4a5c96b45093fb2abfbb",
      "value": ""
     }
    },
    "041765904151444789f17f77536e9828": {
     "model_module": "@jupyter-widgets/controls",
     "model_name": "HTMLModel",
     "state": {
      "_dom_classes": [],
      "_model_module": "@jupyter-widgets/controls",
      "_model_module_version": "1.5.0",
      "_model_name": "HTMLModel",
      "_view_count": null,
      "_view_module": "@jupyter-widgets/controls",
      "_view_module_version": "1.5.0",
      "_view_name": "HTMLView",
      "description": "",
      "description_tooltip": null,
      "layout": "IPY_MODEL_0e734c6e940f4d35bedcf6f1eca40d30",
      "placeholder": "​",
      "style": "IPY_MODEL_5b968430554a452180bdc006b9130e12",
      "value": " 5000/? [00:44&lt;00:00, 113.81it/s]"
     }
    },
    "057bfb21c47f4bcf84e4e6e68f60766e": {
     "model_module": "@jupyter-widgets/controls",
     "model_name": "FloatProgressModel",
     "state": {
      "_dom_classes": [],
      "_model_module": "@jupyter-widgets/controls",
      "_model_module_version": "1.5.0",
      "_model_name": "FloatProgressModel",
      "_view_count": null,
      "_view_module": "@jupyter-widgets/controls",
      "_view_module_version": "1.5.0",
      "_view_name": "ProgressView",
      "bar_style": "success",
      "description": "",
      "description_tooltip": null,
      "layout": "IPY_MODEL_92c341bd783848d3ab7df6a7842a8fd4",
      "max": 87306240,
      "min": 0,
      "orientation": "horizontal",
      "style": "IPY_MODEL_b7a0a7f30de04ce9a18e8cd6fe59d8d2",
      "value": 87306240
     }
    },
    "08e0ea118c214d429ce1c84602a51447": {
     "model_module": "@jupyter-widgets/base",
     "model_name": "LayoutModel",
     "state": {
      "_model_module": "@jupyter-widgets/base",
      "_model_module_version": "1.2.0",
      "_model_name": "LayoutModel",
      "_view_count": null,
      "_view_module": "@jupyter-widgets/base",
      "_view_module_version": "1.2.0",
      "_view_name": "LayoutView",
      "align_content": null,
      "align_items": null,
      "align_self": null,
      "border": null,
      "bottom": null,
      "display": null,
      "flex": null,
      "flex_flow": null,
      "grid_area": null,
      "grid_auto_columns": null,
      "grid_auto_flow": null,
      "grid_auto_rows": null,
      "grid_column": null,
      "grid_gap": null,
      "grid_row": null,
      "grid_template_areas": null,
      "grid_template_columns": null,
      "grid_template_rows": null,
      "height": null,
      "justify_content": null,
      "justify_items": null,
      "left": null,
      "margin": null,
      "max_height": null,
      "max_width": null,
      "min_height": null,
      "min_width": null,
      "object_fit": null,
      "object_position": null,
      "order": null,
      "overflow": null,
      "overflow_x": null,
      "overflow_y": null,
      "padding": null,
      "right": null,
      "top": null,
      "visibility": null,
      "width": null
     }
    },
    "0e734c6e940f4d35bedcf6f1eca40d30": {
     "model_module": "@jupyter-widgets/base",
     "model_name": "LayoutModel",
     "state": {
      "_model_module": "@jupyter-widgets/base",
      "_model_module_version": "1.2.0",
      "_model_name": "LayoutModel",
      "_view_count": null,
      "_view_module": "@jupyter-widgets/base",
      "_view_module_version": "1.2.0",
      "_view_name": "LayoutView",
      "align_content": null,
      "align_items": null,
      "align_self": null,
      "border": null,
      "bottom": null,
      "display": null,
      "flex": null,
      "flex_flow": null,
      "grid_area": null,
      "grid_auto_columns": null,
      "grid_auto_flow": null,
      "grid_auto_rows": null,
      "grid_column": null,
      "grid_gap": null,
      "grid_row": null,
      "grid_template_areas": null,
      "grid_template_columns": null,
      "grid_template_rows": null,
      "height": null,
      "justify_content": null,
      "justify_items": null,
      "left": null,
      "margin": null,
      "max_height": null,
      "max_width": null,
      "min_height": null,
      "min_width": null,
      "object_fit": null,
      "object_position": null,
      "order": null,
      "overflow": null,
      "overflow_x": null,
      "overflow_y": null,
      "padding": null,
      "right": null,
      "top": null,
      "visibility": null,
      "width": null
     }
    },
    "1a79ba2978e34890adaf2873def6f810": {
     "model_module": "@jupyter-widgets/base",
     "model_name": "LayoutModel",
     "state": {
      "_model_module": "@jupyter-widgets/base",
      "_model_module_version": "1.2.0",
      "_model_name": "LayoutModel",
      "_view_count": null,
      "_view_module": "@jupyter-widgets/base",
      "_view_module_version": "1.2.0",
      "_view_name": "LayoutView",
      "align_content": null,
      "align_items": null,
      "align_self": null,
      "border": null,
      "bottom": null,
      "display": null,
      "flex": null,
      "flex_flow": null,
      "grid_area": null,
      "grid_auto_columns": null,
      "grid_auto_flow": null,
      "grid_auto_rows": null,
      "grid_column": null,
      "grid_gap": null,
      "grid_row": null,
      "grid_template_areas": null,
      "grid_template_columns": null,
      "grid_template_rows": null,
      "height": null,
      "justify_content": null,
      "justify_items": null,
      "left": null,
      "margin": null,
      "max_height": null,
      "max_width": null,
      "min_height": null,
      "min_width": null,
      "object_fit": null,
      "object_position": null,
      "order": null,
      "overflow": null,
      "overflow_x": null,
      "overflow_y": null,
      "padding": null,
      "right": null,
      "top": null,
      "visibility": null,
      "width": null
     }
    },
    "2442b68d2582460db127257b5a92a488": {
     "model_module": "@jupyter-widgets/base",
     "model_name": "LayoutModel",
     "state": {
      "_model_module": "@jupyter-widgets/base",
      "_model_module_version": "1.2.0",
      "_model_name": "LayoutModel",
      "_view_count": null,
      "_view_module": "@jupyter-widgets/base",
      "_view_module_version": "1.2.0",
      "_view_name": "LayoutView",
      "align_content": null,
      "align_items": null,
      "align_self": null,
      "border": null,
      "bottom": null,
      "display": null,
      "flex": null,
      "flex_flow": null,
      "grid_area": null,
      "grid_auto_columns": null,
      "grid_auto_flow": null,
      "grid_auto_rows": null,
      "grid_column": null,
      "grid_gap": null,
      "grid_row": null,
      "grid_template_areas": null,
      "grid_template_columns": null,
      "grid_template_rows": null,
      "height": null,
      "justify_content": null,
      "justify_items": null,
      "left": null,
      "margin": null,
      "max_height": null,
      "max_width": null,
      "min_height": null,
      "min_width": null,
      "object_fit": null,
      "object_position": null,
      "order": null,
      "overflow": null,
      "overflow_x": null,
      "overflow_y": null,
      "padding": null,
      "right": null,
      "top": null,
      "visibility": null,
      "width": null
     }
    },
    "2750b656e2eb40cca4d7823a190633d6": {
     "model_module": "@jupyter-widgets/base",
     "model_name": "LayoutModel",
     "state": {
      "_model_module": "@jupyter-widgets/base",
      "_model_module_version": "1.2.0",
      "_model_name": "LayoutModel",
      "_view_count": null,
      "_view_module": "@jupyter-widgets/base",
      "_view_module_version": "1.2.0",
      "_view_name": "LayoutView",
      "align_content": null,
      "align_items": null,
      "align_self": null,
      "border": null,
      "bottom": null,
      "display": null,
      "flex": null,
      "flex_flow": null,
      "grid_area": null,
      "grid_auto_columns": null,
      "grid_auto_flow": null,
      "grid_auto_rows": null,
      "grid_column": null,
      "grid_gap": null,
      "grid_row": null,
      "grid_template_areas": null,
      "grid_template_columns": null,
      "grid_template_rows": null,
      "height": null,
      "justify_content": null,
      "justify_items": null,
      "left": null,
      "margin": null,
      "max_height": null,
      "max_width": null,
      "min_height": null,
      "min_width": null,
      "object_fit": null,
      "object_position": null,
      "order": null,
      "overflow": null,
      "overflow_x": null,
      "overflow_y": null,
      "padding": null,
      "right": null,
      "top": null,
      "visibility": null,
      "width": null
     }
    },
    "28a10c611bc14ceaa5eb35ad8ff1aa7a": {
     "model_module": "@jupyter-widgets/controls",
     "model_name": "DescriptionStyleModel",
     "state": {
      "_model_module": "@jupyter-widgets/controls",
      "_model_module_version": "1.5.0",
      "_model_name": "DescriptionStyleModel",
      "_view_count": null,
      "_view_module": "@jupyter-widgets/base",
      "_view_module_version": "1.2.0",
      "_view_name": "StyleView",
      "description_width": ""
     }
    },
    "29848ca15b3c4a5c96b45093fb2abfbb": {
     "model_module": "@jupyter-widgets/controls",
     "model_name": "DescriptionStyleModel",
     "state": {
      "_model_module": "@jupyter-widgets/controls",
      "_model_module_version": "1.5.0",
      "_model_name": "DescriptionStyleModel",
      "_view_count": null,
      "_view_module": "@jupyter-widgets/base",
      "_view_module_version": "1.2.0",
      "_view_name": "StyleView",
      "description_width": ""
     }
    },
    "32bab4b0dfe24d458c58fd7c72de7e54": {
     "model_module": "@jupyter-widgets/controls",
     "model_name": "ProgressStyleModel",
     "state": {
      "_model_module": "@jupyter-widgets/controls",
      "_model_module_version": "1.5.0",
      "_model_name": "ProgressStyleModel",
      "_view_count": null,
      "_view_module": "@jupyter-widgets/base",
      "_view_module_version": "1.2.0",
      "_view_name": "StyleView",
      "bar_color": null,
      "description_width": ""
     }
    },
    "3674af37e63240f3b0673f42461202b0": {
     "model_module": "@jupyter-widgets/controls",
     "model_name": "HTMLModel",
     "state": {
      "_dom_classes": [],
      "_model_module": "@jupyter-widgets/controls",
      "_model_module_version": "1.5.0",
      "_model_name": "HTMLModel",
      "_view_count": null,
      "_view_module": "@jupyter-widgets/controls",
      "_view_module_version": "1.5.0",
      "_view_name": "HTMLView",
      "description": "",
      "description_tooltip": null,
      "layout": "IPY_MODEL_bc7f1a0f27eb4ff5b890ea03d4c1e140",
      "placeholder": "​",
      "style": "IPY_MODEL_4c9539f1287a43bdae2deedb6fa02677",
      "value": "100%"
     }
    },
    "4856e30eda034df0815409530134a2db": {
     "model_module": "@jupyter-widgets/base",
     "model_name": "LayoutModel",
     "state": {
      "_model_module": "@jupyter-widgets/base",
      "_model_module_version": "1.2.0",
      "_model_name": "LayoutModel",
      "_view_count": null,
      "_view_module": "@jupyter-widgets/base",
      "_view_module_version": "1.2.0",
      "_view_name": "LayoutView",
      "align_content": null,
      "align_items": null,
      "align_self": null,
      "border": null,
      "bottom": null,
      "display": null,
      "flex": null,
      "flex_flow": null,
      "grid_area": null,
      "grid_auto_columns": null,
      "grid_auto_flow": null,
      "grid_auto_rows": null,
      "grid_column": null,
      "grid_gap": null,
      "grid_row": null,
      "grid_template_areas": null,
      "grid_template_columns": null,
      "grid_template_rows": null,
      "height": null,
      "justify_content": null,
      "justify_items": null,
      "left": null,
      "margin": null,
      "max_height": null,
      "max_width": null,
      "min_height": null,
      "min_width": null,
      "object_fit": null,
      "object_position": null,
      "order": null,
      "overflow": null,
      "overflow_x": null,
      "overflow_y": null,
      "padding": null,
      "right": null,
      "top": null,
      "visibility": null,
      "width": "20px"
     }
    },
    "4c9539f1287a43bdae2deedb6fa02677": {
     "model_module": "@jupyter-widgets/controls",
     "model_name": "DescriptionStyleModel",
     "state": {
      "_model_module": "@jupyter-widgets/controls",
      "_model_module_version": "1.5.0",
      "_model_name": "DescriptionStyleModel",
      "_view_count": null,
      "_view_module": "@jupyter-widgets/base",
      "_view_module_version": "1.2.0",
      "_view_name": "StyleView",
      "description_width": ""
     }
    },
    "5577e6f4fba648648e8fb40348992b42": {
     "model_module": "@jupyter-widgets/controls",
     "model_name": "HBoxModel",
     "state": {
      "_dom_classes": [],
      "_model_module": "@jupyter-widgets/controls",
      "_model_module_version": "1.5.0",
      "_model_name": "HBoxModel",
      "_view_count": null,
      "_view_module": "@jupyter-widgets/controls",
      "_view_module_version": "1.5.0",
      "_view_name": "HBoxView",
      "box_style": "",
      "children": [
       "IPY_MODEL_a644072b8bc34b0f8dd0b8dfb8a9574b",
       "IPY_MODEL_bf8b88a1521b43849a79cde18e49072e",
       "IPY_MODEL_c32c98081ac647ed97fc2120047bd644"
      ],
      "layout": "IPY_MODEL_5898023df6e8499381b49a8c83c1de17"
     }
    },
    "5898023df6e8499381b49a8c83c1de17": {
     "model_module": "@jupyter-widgets/base",
     "model_name": "LayoutModel",
     "state": {
      "_model_module": "@jupyter-widgets/base",
      "_model_module_version": "1.2.0",
      "_model_name": "LayoutModel",
      "_view_count": null,
      "_view_module": "@jupyter-widgets/base",
      "_view_module_version": "1.2.0",
      "_view_name": "LayoutView",
      "align_content": null,
      "align_items": null,
      "align_self": null,
      "border": null,
      "bottom": null,
      "display": null,
      "flex": null,
      "flex_flow": null,
      "grid_area": null,
      "grid_auto_columns": null,
      "grid_auto_flow": null,
      "grid_auto_rows": null,
      "grid_column": null,
      "grid_gap": null,
      "grid_row": null,
      "grid_template_areas": null,
      "grid_template_columns": null,
      "grid_template_rows": null,
      "height": null,
      "justify_content": null,
      "justify_items": null,
      "left": null,
      "margin": null,
      "max_height": null,
      "max_width": null,
      "min_height": null,
      "min_width": null,
      "object_fit": null,
      "object_position": null,
      "order": null,
      "overflow": null,
      "overflow_x": null,
      "overflow_y": null,
      "padding": null,
      "right": null,
      "top": null,
      "visibility": null,
      "width": null
     }
    },
    "5b968430554a452180bdc006b9130e12": {
     "model_module": "@jupyter-widgets/controls",
     "model_name": "DescriptionStyleModel",
     "state": {
      "_model_module": "@jupyter-widgets/controls",
      "_model_module_version": "1.5.0",
      "_model_name": "DescriptionStyleModel",
      "_view_count": null,
      "_view_module": "@jupyter-widgets/base",
      "_view_module_version": "1.2.0",
      "_view_name": "StyleView",
      "description_width": ""
     }
    },
    "5ce652bb93214820bdfa23d18dfd7994": {
     "model_module": "@jupyter-widgets/controls",
     "model_name": "DescriptionStyleModel",
     "state": {
      "_model_module": "@jupyter-widgets/controls",
      "_model_module_version": "1.5.0",
      "_model_name": "DescriptionStyleModel",
      "_view_count": null,
      "_view_module": "@jupyter-widgets/base",
      "_view_module_version": "1.2.0",
      "_view_name": "StyleView",
      "description_width": ""
     }
    },
    "6260418d18cb4f388fc73fe55653c5f9": {
     "model_module": "@jupyter-widgets/base",
     "model_name": "LayoutModel",
     "state": {
      "_model_module": "@jupyter-widgets/base",
      "_model_module_version": "1.2.0",
      "_model_name": "LayoutModel",
      "_view_count": null,
      "_view_module": "@jupyter-widgets/base",
      "_view_module_version": "1.2.0",
      "_view_name": "LayoutView",
      "align_content": null,
      "align_items": null,
      "align_self": null,
      "border": null,
      "bottom": null,
      "display": null,
      "flex": null,
      "flex_flow": null,
      "grid_area": null,
      "grid_auto_columns": null,
      "grid_auto_flow": null,
      "grid_auto_rows": null,
      "grid_column": null,
      "grid_gap": null,
      "grid_row": null,
      "grid_template_areas": null,
      "grid_template_columns": null,
      "grid_template_rows": null,
      "height": null,
      "justify_content": null,
      "justify_items": null,
      "left": null,
      "margin": null,
      "max_height": null,
      "max_width": null,
      "min_height": null,
      "min_width": null,
      "object_fit": null,
      "object_position": null,
      "order": null,
      "overflow": null,
      "overflow_x": null,
      "overflow_y": null,
      "padding": null,
      "right": null,
      "top": null,
      "visibility": null,
      "width": null
     }
    },
    "690a6267d09f49f29e85a3662a0df5b5": {
     "model_module": "@jupyter-widgets/controls",
     "model_name": "FloatProgressModel",
     "state": {
      "_dom_classes": [],
      "_model_module": "@jupyter-widgets/controls",
      "_model_module_version": "1.5.0",
      "_model_name": "FloatProgressModel",
      "_view_count": null,
      "_view_module": "@jupyter-widgets/controls",
      "_view_module_version": "1.5.0",
      "_view_name": "ProgressView",
      "bar_style": "success",
      "description": "",
      "description_tooltip": null,
      "layout": "IPY_MODEL_4856e30eda034df0815409530134a2db",
      "max": 1,
      "min": 0,
      "orientation": "horizontal",
      "style": "IPY_MODEL_8a22eeacbdcb4f239258e879697d6f61",
      "value": 1
     }
    },
    "6c91342d90774fd0b0d127eba8816675": {
     "model_module": "@jupyter-widgets/base",
     "model_name": "LayoutModel",
     "state": {
      "_model_module": "@jupyter-widgets/base",
      "_model_module_version": "1.2.0",
      "_model_name": "LayoutModel",
      "_view_count": null,
      "_view_module": "@jupyter-widgets/base",
      "_view_module_version": "1.2.0",
      "_view_name": "LayoutView",
      "align_content": null,
      "align_items": null,
      "align_self": null,
      "border": null,
      "bottom": null,
      "display": null,
      "flex": null,
      "flex_flow": null,
      "grid_area": null,
      "grid_auto_columns": null,
      "grid_auto_flow": null,
      "grid_auto_rows": null,
      "grid_column": null,
      "grid_gap": null,
      "grid_row": null,
      "grid_template_areas": null,
      "grid_template_columns": null,
      "grid_template_rows": null,
      "height": null,
      "justify_content": null,
      "justify_items": null,
      "left": null,
      "margin": null,
      "max_height": null,
      "max_width": null,
      "min_height": null,
      "min_width": null,
      "object_fit": null,
      "object_position": null,
      "order": null,
      "overflow": null,
      "overflow_x": null,
      "overflow_y": null,
      "padding": null,
      "right": null,
      "top": null,
      "visibility": null,
      "width": null
     }
    },
    "6dc8df0685d04004a66739a0847a8d6d": {
     "model_module": "@jupyter-widgets/base",
     "model_name": "LayoutModel",
     "state": {
      "_model_module": "@jupyter-widgets/base",
      "_model_module_version": "1.2.0",
      "_model_name": "LayoutModel",
      "_view_count": null,
      "_view_module": "@jupyter-widgets/base",
      "_view_module_version": "1.2.0",
      "_view_name": "LayoutView",
      "align_content": null,
      "align_items": null,
      "align_self": null,
      "border": null,
      "bottom": null,
      "display": null,
      "flex": null,
      "flex_flow": null,
      "grid_area": null,
      "grid_auto_columns": null,
      "grid_auto_flow": null,
      "grid_auto_rows": null,
      "grid_column": null,
      "grid_gap": null,
      "grid_row": null,
      "grid_template_areas": null,
      "grid_template_columns": null,
      "grid_template_rows": null,
      "height": null,
      "justify_content": null,
      "justify_items": null,
      "left": null,
      "margin": null,
      "max_height": null,
      "max_width": null,
      "min_height": null,
      "min_width": null,
      "object_fit": null,
      "object_position": null,
      "order": null,
      "overflow": null,
      "overflow_x": null,
      "overflow_y": null,
      "padding": null,
      "right": null,
      "top": null,
      "visibility": null,
      "width": null
     }
    },
    "80ab8176e8ee4c678f057c9945ba64ff": {
     "model_module": "@jupyter-widgets/controls",
     "model_name": "FloatProgressModel",
     "state": {
      "_dom_classes": [],
      "_model_module": "@jupyter-widgets/controls",
      "_model_module_version": "1.5.0",
      "_model_name": "FloatProgressModel",
      "_view_count": null,
      "_view_module": "@jupyter-widgets/controls",
      "_view_module_version": "1.5.0",
      "_view_name": "ProgressView",
      "bar_style": "success",
      "description": "",
      "description_tooltip": null,
      "layout": "IPY_MODEL_1a79ba2978e34890adaf2873def6f810",
      "max": 625,
      "min": 0,
      "orientation": "horizontal",
      "style": "IPY_MODEL_d19240111f114cffb2ab2c95711545cc",
      "value": 625
     }
    },
    "8550d5466ac145c6bd58c0c31116f325": {
     "model_module": "@jupyter-widgets/base",
     "model_name": "LayoutModel",
     "state": {
      "_model_module": "@jupyter-widgets/base",
      "_model_module_version": "1.2.0",
      "_model_name": "LayoutModel",
      "_view_count": null,
      "_view_module": "@jupyter-widgets/base",
      "_view_module_version": "1.2.0",
      "_view_name": "LayoutView",
      "align_content": null,
      "align_items": null,
      "align_self": null,
      "border": null,
      "bottom": null,
      "display": null,
      "flex": null,
      "flex_flow": null,
      "grid_area": null,
      "grid_auto_columns": null,
      "grid_auto_flow": null,
      "grid_auto_rows": null,
      "grid_column": null,
      "grid_gap": null,
      "grid_row": null,
      "grid_template_areas": null,
      "grid_template_columns": null,
      "grid_template_rows": null,
      "height": null,
      "justify_content": null,
      "justify_items": null,
      "left": null,
      "margin": null,
      "max_height": null,
      "max_width": null,
      "min_height": null,
      "min_width": null,
      "object_fit": null,
      "object_position": null,
      "order": null,
      "overflow": null,
      "overflow_x": null,
      "overflow_y": null,
      "padding": null,
      "right": null,
      "top": null,
      "visibility": null,
      "width": null
     }
    },
    "8818ba8f64814b8da04485b6f4b84558": {
     "model_module": "@jupyter-widgets/controls",
     "model_name": "HBoxModel",
     "state": {
      "_dom_classes": [],
      "_model_module": "@jupyter-widgets/controls",
      "_model_module_version": "1.5.0",
      "_model_name": "HBoxModel",
      "_view_count": null,
      "_view_module": "@jupyter-widgets/controls",
      "_view_module_version": "1.5.0",
      "_view_name": "HBoxView",
      "box_style": "",
      "children": [
       "IPY_MODEL_8a71cc7a9f5b4a4faa0e63333ea01ed1",
       "IPY_MODEL_f137cb7f7be74eec9c81c606e9e9b4d5",
       "IPY_MODEL_e58c919214b74ef092437bac5d11a661"
      ],
      "layout": "IPY_MODEL_fe735da8ebb64b8aa850e85d3ec1ca4f"
     }
    },
    "8a22eeacbdcb4f239258e879697d6f61": {
     "model_module": "@jupyter-widgets/controls",
     "model_name": "ProgressStyleModel",
     "state": {
      "_model_module": "@jupyter-widgets/controls",
      "_model_module_version": "1.5.0",
      "_model_name": "ProgressStyleModel",
      "_view_count": null,
      "_view_module": "@jupyter-widgets/base",
      "_view_module_version": "1.2.0",
      "_view_name": "StyleView",
      "bar_color": null,
      "description_width": ""
     }
    },
    "8a71cc7a9f5b4a4faa0e63333ea01ed1": {
     "model_module": "@jupyter-widgets/controls",
     "model_name": "HTMLModel",
     "state": {
      "_dom_classes": [],
      "_model_module": "@jupyter-widgets/controls",
      "_model_module_version": "1.5.0",
      "_model_name": "HTMLModel",
      "_view_count": null,
      "_view_module": "@jupyter-widgets/controls",
      "_view_module_version": "1.5.0",
      "_view_name": "HTMLView",
      "description": "",
      "description_tooltip": null,
      "layout": "IPY_MODEL_e292638dbf4344ed8c8f9516feddada0",
      "placeholder": "​",
      "style": "IPY_MODEL_28a10c611bc14ceaa5eb35ad8ff1aa7a",
      "value": "train.zip: 100%"
     }
    },
    "8e093995056c4baab7a7102787184fbb": {
     "model_module": "@jupyter-widgets/controls",
     "model_name": "DescriptionStyleModel",
     "state": {
      "_model_module": "@jupyter-widgets/controls",
      "_model_module_version": "1.5.0",
      "_model_name": "DescriptionStyleModel",
      "_view_count": null,
      "_view_module": "@jupyter-widgets/base",
      "_view_module_version": "1.2.0",
      "_view_name": "StyleView",
      "description_width": ""
     }
    },
    "92c341bd783848d3ab7df6a7842a8fd4": {
     "model_module": "@jupyter-widgets/base",
     "model_name": "LayoutModel",
     "state": {
      "_model_module": "@jupyter-widgets/base",
      "_model_module_version": "1.2.0",
      "_model_name": "LayoutModel",
      "_view_count": null,
      "_view_module": "@jupyter-widgets/base",
      "_view_module_version": "1.2.0",
      "_view_name": "LayoutView",
      "align_content": null,
      "align_items": null,
      "align_self": null,
      "border": null,
      "bottom": null,
      "display": null,
      "flex": null,
      "flex_flow": null,
      "grid_area": null,
      "grid_auto_columns": null,
      "grid_auto_flow": null,
      "grid_auto_rows": null,
      "grid_column": null,
      "grid_gap": null,
      "grid_row": null,
      "grid_template_areas": null,
      "grid_template_columns": null,
      "grid_template_rows": null,
      "height": null,
      "justify_content": null,
      "justify_items": null,
      "left": null,
      "margin": null,
      "max_height": null,
      "max_width": null,
      "min_height": null,
      "min_width": null,
      "object_fit": null,
      "object_position": null,
      "order": null,
      "overflow": null,
      "overflow_x": null,
      "overflow_y": null,
      "padding": null,
      "right": null,
      "top": null,
      "visibility": null,
      "width": null
     }
    },
    "9665f277f6ae48b0921fec929462f28e": {
     "model_module": "@jupyter-widgets/base",
     "model_name": "LayoutModel",
     "state": {
      "_model_module": "@jupyter-widgets/base",
      "_model_module_version": "1.2.0",
      "_model_name": "LayoutModel",
      "_view_count": null,
      "_view_module": "@jupyter-widgets/base",
      "_view_module_version": "1.2.0",
      "_view_name": "LayoutView",
      "align_content": null,
      "align_items": null,
      "align_self": null,
      "border": null,
      "bottom": null,
      "display": null,
      "flex": null,
      "flex_flow": null,
      "grid_area": null,
      "grid_auto_columns": null,
      "grid_auto_flow": null,
      "grid_auto_rows": null,
      "grid_column": null,
      "grid_gap": null,
      "grid_row": null,
      "grid_template_areas": null,
      "grid_template_columns": null,
      "grid_template_rows": null,
      "height": null,
      "justify_content": null,
      "justify_items": null,
      "left": null,
      "margin": null,
      "max_height": null,
      "max_width": null,
      "min_height": null,
      "min_width": null,
      "object_fit": null,
      "object_position": null,
      "order": null,
      "overflow": null,
      "overflow_x": null,
      "overflow_y": null,
      "padding": null,
      "right": null,
      "top": null,
      "visibility": null,
      "width": null
     }
    },
    "9bb90ebcf4ad40629bc136888ede5ac7": {
     "model_module": "@jupyter-widgets/base",
     "model_name": "LayoutModel",
     "state": {
      "_model_module": "@jupyter-widgets/base",
      "_model_module_version": "1.2.0",
      "_model_name": "LayoutModel",
      "_view_count": null,
      "_view_module": "@jupyter-widgets/base",
      "_view_module_version": "1.2.0",
      "_view_name": "LayoutView",
      "align_content": null,
      "align_items": null,
      "align_self": null,
      "border": null,
      "bottom": null,
      "display": null,
      "flex": null,
      "flex_flow": null,
      "grid_area": null,
      "grid_auto_columns": null,
      "grid_auto_flow": null,
      "grid_auto_rows": null,
      "grid_column": null,
      "grid_gap": null,
      "grid_row": null,
      "grid_template_areas": null,
      "grid_template_columns": null,
      "grid_template_rows": null,
      "height": null,
      "justify_content": null,
      "justify_items": null,
      "left": null,
      "margin": null,
      "max_height": null,
      "max_width": null,
      "min_height": null,
      "min_width": null,
      "object_fit": null,
      "object_position": null,
      "order": null,
      "overflow": null,
      "overflow_x": null,
      "overflow_y": null,
      "padding": null,
      "right": null,
      "top": null,
      "visibility": null,
      "width": null
     }
    },
    "9e3a3f8ddc724afab375d7f9351f0117": {
     "model_module": "@jupyter-widgets/controls",
     "model_name": "DescriptionStyleModel",
     "state": {
      "_model_module": "@jupyter-widgets/controls",
      "_model_module_version": "1.5.0",
      "_model_name": "DescriptionStyleModel",
      "_view_count": null,
      "_view_module": "@jupyter-widgets/base",
      "_view_module_version": "1.2.0",
      "_view_name": "StyleView",
      "description_width": ""
     }
    },
    "a40a954e3dd44bd6818b2359f41ac10d": {
     "model_module": "@jupyter-widgets/controls",
     "model_name": "HTMLModel",
     "state": {
      "_dom_classes": [],
      "_model_module": "@jupyter-widgets/controls",
      "_model_module_version": "1.5.0",
      "_model_name": "HTMLModel",
      "_view_count": null,
      "_view_module": "@jupyter-widgets/controls",
      "_view_module_version": "1.5.0",
      "_view_name": "HTMLView",
      "description": "",
      "description_tooltip": null,
      "layout": "IPY_MODEL_08e0ea118c214d429ce1c84602a51447",
      "placeholder": "​",
      "style": "IPY_MODEL_9e3a3f8ddc724afab375d7f9351f0117",
      "value": "100%"
     }
    },
    "a644072b8bc34b0f8dd0b8dfb8a9574b": {
     "model_module": "@jupyter-widgets/controls",
     "model_name": "HTMLModel",
     "state": {
      "_dom_classes": [],
      "_model_module": "@jupyter-widgets/controls",
      "_model_module_version": "1.5.0",
      "_model_name": "HTMLModel",
      "_view_count": null,
      "_view_module": "@jupyter-widgets/controls",
      "_view_module_version": "1.5.0",
      "_view_name": "HTMLView",
      "description": "",
      "description_tooltip": null,
      "layout": "IPY_MODEL_c9f8ff9213e04e8a9bfdc84c3e4c2727",
      "placeholder": "​",
      "style": "IPY_MODEL_fe373ce682f349c79201f7c0e8fc311d",
      "value": "test.zip: 100%"
     }
    },
    "a8b5e6e91284416fbc82756e240cbf30": {
     "model_module": "@jupyter-widgets/controls",
     "model_name": "DescriptionStyleModel",
     "state": {
      "_model_module": "@jupyter-widgets/controls",
      "_model_module_version": "1.5.0",
      "_model_name": "DescriptionStyleModel",
      "_view_count": null,
      "_view_module": "@jupyter-widgets/base",
      "_view_module_version": "1.2.0",
      "_view_name": "StyleView",
      "description_width": ""
     }
    },
    "ac4b3fa190a34324ab71a8d06d994c21": {
     "model_module": "@jupyter-widgets/controls",
     "model_name": "HBoxModel",
     "state": {
      "_dom_classes": [],
      "_model_module": "@jupyter-widgets/controls",
      "_model_module_version": "1.5.0",
      "_model_name": "HBoxModel",
      "_view_count": null,
      "_view_module": "@jupyter-widgets/controls",
      "_view_module_version": "1.5.0",
      "_view_name": "HBoxView",
      "box_style": "",
      "children": [
       "IPY_MODEL_3674af37e63240f3b0673f42461202b0",
       "IPY_MODEL_057bfb21c47f4bcf84e4e6e68f60766e",
       "IPY_MODEL_f3a5094a07434bd69ee4f3e303372a79"
      ],
      "layout": "IPY_MODEL_2750b656e2eb40cca4d7823a190633d6"
     }
    },
    "b7a0a7f30de04ce9a18e8cd6fe59d8d2": {
     "model_module": "@jupyter-widgets/controls",
     "model_name": "ProgressStyleModel",
     "state": {
      "_model_module": "@jupyter-widgets/controls",
      "_model_module_version": "1.5.0",
      "_model_name": "ProgressStyleModel",
      "_view_count": null,
      "_view_module": "@jupyter-widgets/base",
      "_view_module_version": "1.2.0",
      "_view_name": "StyleView",
      "bar_color": null,
      "description_width": ""
     }
    },
    "bc7f1a0f27eb4ff5b890ea03d4c1e140": {
     "model_module": "@jupyter-widgets/base",
     "model_name": "LayoutModel",
     "state": {
      "_model_module": "@jupyter-widgets/base",
      "_model_module_version": "1.2.0",
      "_model_name": "LayoutModel",
      "_view_count": null,
      "_view_module": "@jupyter-widgets/base",
      "_view_module_version": "1.2.0",
      "_view_name": "LayoutView",
      "align_content": null,
      "align_items": null,
      "align_self": null,
      "border": null,
      "bottom": null,
      "display": null,
      "flex": null,
      "flex_flow": null,
      "grid_area": null,
      "grid_auto_columns": null,
      "grid_auto_flow": null,
      "grid_auto_rows": null,
      "grid_column": null,
      "grid_gap": null,
      "grid_row": null,
      "grid_template_areas": null,
      "grid_template_columns": null,
      "grid_template_rows": null,
      "height": null,
      "justify_content": null,
      "justify_items": null,
      "left": null,
      "margin": null,
      "max_height": null,
      "max_width": null,
      "min_height": null,
      "min_width": null,
      "object_fit": null,
      "object_position": null,
      "order": null,
      "overflow": null,
      "overflow_x": null,
      "overflow_y": null,
      "padding": null,
      "right": null,
      "top": null,
      "visibility": null,
      "width": null
     }
    },
    "bf8b88a1521b43849a79cde18e49072e": {
     "model_module": "@jupyter-widgets/controls",
     "model_name": "FloatProgressModel",
     "state": {
      "_dom_classes": [],
      "_model_module": "@jupyter-widgets/controls",
      "_model_module_version": "1.5.0",
      "_model_name": "FloatProgressModel",
      "_view_count": null,
      "_view_module": "@jupyter-widgets/controls",
      "_view_module_version": "1.5.0",
      "_view_name": "ProgressView",
      "bar_style": "success",
      "description": "",
      "description_tooltip": null,
      "layout": "IPY_MODEL_2442b68d2582460db127257b5a92a488",
      "max": 316029680,
      "min": 0,
      "orientation": "horizontal",
      "style": "IPY_MODEL_ca5deb762b604aa6b98e6c2ac22d7172",
      "value": 316029680
     }
    },
    "c32c98081ac647ed97fc2120047bd644": {
     "model_module": "@jupyter-widgets/controls",
     "model_name": "HTMLModel",
     "state": {
      "_dom_classes": [],
      "_model_module": "@jupyter-widgets/controls",
      "_model_module_version": "1.5.0",
      "_model_name": "HTMLModel",
      "_view_count": null,
      "_view_module": "@jupyter-widgets/controls",
      "_view_module_version": "1.5.0",
      "_view_name": "HTMLView",
      "description": "",
      "description_tooltip": null,
      "layout": "IPY_MODEL_6260418d18cb4f388fc73fe55653c5f9",
      "placeholder": "​",
      "style": "IPY_MODEL_5ce652bb93214820bdfa23d18dfd7994",
      "value": " 316M/316M [00:34&lt;00:00, 10.4MB/s]"
     }
    },
    "c55ad801bbea45f8bb1ff9f53b504ff3": {
     "model_module": "@jupyter-widgets/controls",
     "model_name": "HTMLModel",
     "state": {
      "_dom_classes": [],
      "_model_module": "@jupyter-widgets/controls",
      "_model_module_version": "1.5.0",
      "_model_name": "HTMLModel",
      "_view_count": null,
      "_view_module": "@jupyter-widgets/controls",
      "_view_module_version": "1.5.0",
      "_view_name": "HTMLView",
      "description": "",
      "description_tooltip": null,
      "layout": "IPY_MODEL_8550d5466ac145c6bd58c0c31116f325",
      "placeholder": "​",
      "style": "IPY_MODEL_e32186f5aa334e098877b4e98b808545",
      "value": " 625/625 [02:27&lt;00:00,  4.15it/s]"
     }
    },
    "c9f8ff9213e04e8a9bfdc84c3e4c2727": {
     "model_module": "@jupyter-widgets/base",
     "model_name": "LayoutModel",
     "state": {
      "_model_module": "@jupyter-widgets/base",
      "_model_module_version": "1.2.0",
      "_model_name": "LayoutModel",
      "_view_count": null,
      "_view_module": "@jupyter-widgets/base",
      "_view_module_version": "1.2.0",
      "_view_name": "LayoutView",
      "align_content": null,
      "align_items": null,
      "align_self": null,
      "border": null,
      "bottom": null,
      "display": null,
      "flex": null,
      "flex_flow": null,
      "grid_area": null,
      "grid_auto_columns": null,
      "grid_auto_flow": null,
      "grid_auto_rows": null,
      "grid_column": null,
      "grid_gap": null,
      "grid_row": null,
      "grid_template_areas": null,
      "grid_template_columns": null,
      "grid_template_rows": null,
      "height": null,
      "justify_content": null,
      "justify_items": null,
      "left": null,
      "margin": null,
      "max_height": null,
      "max_width": null,
      "min_height": null,
      "min_width": null,
      "object_fit": null,
      "object_position": null,
      "order": null,
      "overflow": null,
      "overflow_x": null,
      "overflow_y": null,
      "padding": null,
      "right": null,
      "top": null,
      "visibility": null,
      "width": null
     }
    },
    "ca5deb762b604aa6b98e6c2ac22d7172": {
     "model_module": "@jupyter-widgets/controls",
     "model_name": "ProgressStyleModel",
     "state": {
      "_model_module": "@jupyter-widgets/controls",
      "_model_module_version": "1.5.0",
      "_model_name": "ProgressStyleModel",
      "_view_count": null,
      "_view_module": "@jupyter-widgets/base",
      "_view_module_version": "1.2.0",
      "_view_name": "StyleView",
      "bar_color": null,
      "description_width": ""
     }
    },
    "cc6dac33803e418aa8d5cc7dc1b6e6ef": {
     "model_module": "@jupyter-widgets/controls",
     "model_name": "HBoxModel",
     "state": {
      "_dom_classes": [],
      "_model_module": "@jupyter-widgets/controls",
      "_model_module_version": "1.5.0",
      "_model_name": "HBoxModel",
      "_view_count": null,
      "_view_module": "@jupyter-widgets/controls",
      "_view_module_version": "1.5.0",
      "_view_name": "HBoxView",
      "box_style": "",
      "children": [
       "IPY_MODEL_00908d4721b14414b366c4bd8dc5d969",
       "IPY_MODEL_690a6267d09f49f29e85a3662a0df5b5",
       "IPY_MODEL_041765904151444789f17f77536e9828"
      ],
      "layout": "IPY_MODEL_6c91342d90774fd0b0d127eba8816675"
     }
    },
    "d19240111f114cffb2ab2c95711545cc": {
     "model_module": "@jupyter-widgets/controls",
     "model_name": "ProgressStyleModel",
     "state": {
      "_model_module": "@jupyter-widgets/controls",
      "_model_module_version": "1.5.0",
      "_model_name": "ProgressStyleModel",
      "_view_count": null,
      "_view_module": "@jupyter-widgets/base",
      "_view_module_version": "1.2.0",
      "_view_name": "StyleView",
      "bar_color": null,
      "description_width": ""
     }
    },
    "d673c60e0a2041db9bf556e4daf1642d": {
     "model_module": "@jupyter-widgets/base",
     "model_name": "LayoutModel",
     "state": {
      "_model_module": "@jupyter-widgets/base",
      "_model_module_version": "1.2.0",
      "_model_name": "LayoutModel",
      "_view_count": null,
      "_view_module": "@jupyter-widgets/base",
      "_view_module_version": "1.2.0",
      "_view_name": "LayoutView",
      "align_content": null,
      "align_items": null,
      "align_self": null,
      "border": null,
      "bottom": null,
      "display": null,
      "flex": null,
      "flex_flow": null,
      "grid_area": null,
      "grid_auto_columns": null,
      "grid_auto_flow": null,
      "grid_auto_rows": null,
      "grid_column": null,
      "grid_gap": null,
      "grid_row": null,
      "grid_template_areas": null,
      "grid_template_columns": null,
      "grid_template_rows": null,
      "height": null,
      "justify_content": null,
      "justify_items": null,
      "left": null,
      "margin": null,
      "max_height": null,
      "max_width": null,
      "min_height": null,
      "min_width": null,
      "object_fit": null,
      "object_position": null,
      "order": null,
      "overflow": null,
      "overflow_x": null,
      "overflow_y": null,
      "padding": null,
      "right": null,
      "top": null,
      "visibility": null,
      "width": null
     }
    },
    "e292638dbf4344ed8c8f9516feddada0": {
     "model_module": "@jupyter-widgets/base",
     "model_name": "LayoutModel",
     "state": {
      "_model_module": "@jupyter-widgets/base",
      "_model_module_version": "1.2.0",
      "_model_name": "LayoutModel",
      "_view_count": null,
      "_view_module": "@jupyter-widgets/base",
      "_view_module_version": "1.2.0",
      "_view_name": "LayoutView",
      "align_content": null,
      "align_items": null,
      "align_self": null,
      "border": null,
      "bottom": null,
      "display": null,
      "flex": null,
      "flex_flow": null,
      "grid_area": null,
      "grid_auto_columns": null,
      "grid_auto_flow": null,
      "grid_auto_rows": null,
      "grid_column": null,
      "grid_gap": null,
      "grid_row": null,
      "grid_template_areas": null,
      "grid_template_columns": null,
      "grid_template_rows": null,
      "height": null,
      "justify_content": null,
      "justify_items": null,
      "left": null,
      "margin": null,
      "max_height": null,
      "max_width": null,
      "min_height": null,
      "min_width": null,
      "object_fit": null,
      "object_position": null,
      "order": null,
      "overflow": null,
      "overflow_x": null,
      "overflow_y": null,
      "padding": null,
      "right": null,
      "top": null,
      "visibility": null,
      "width": null
     }
    },
    "e32186f5aa334e098877b4e98b808545": {
     "model_module": "@jupyter-widgets/controls",
     "model_name": "DescriptionStyleModel",
     "state": {
      "_model_module": "@jupyter-widgets/controls",
      "_model_module_version": "1.5.0",
      "_model_name": "DescriptionStyleModel",
      "_view_count": null,
      "_view_module": "@jupyter-widgets/base",
      "_view_module_version": "1.2.0",
      "_view_name": "StyleView",
      "description_width": ""
     }
    },
    "e58c919214b74ef092437bac5d11a661": {
     "model_module": "@jupyter-widgets/controls",
     "model_name": "HTMLModel",
     "state": {
      "_dom_classes": [],
      "_model_module": "@jupyter-widgets/controls",
      "_model_module_version": "1.5.0",
      "_model_name": "HTMLModel",
      "_view_count": null,
      "_view_module": "@jupyter-widgets/controls",
      "_view_module_version": "1.5.0",
      "_view_name": "HTMLView",
      "description": "",
      "description_tooltip": null,
      "layout": "IPY_MODEL_9665f277f6ae48b0921fec929462f28e",
      "placeholder": "​",
      "style": "IPY_MODEL_8e093995056c4baab7a7102787184fbb",
      "value": " 402M/402M [00:23&lt;00:00, 19.1MB/s]"
     }
    },
    "e6d2587531ad4285a685f1f34de7f3aa": {
     "model_module": "@jupyter-widgets/controls",
     "model_name": "HBoxModel",
     "state": {
      "_dom_classes": [],
      "_model_module": "@jupyter-widgets/controls",
      "_model_module_version": "1.5.0",
      "_model_name": "HBoxModel",
      "_view_count": null,
      "_view_module": "@jupyter-widgets/controls",
      "_view_module_version": "1.5.0",
      "_view_name": "HBoxView",
      "box_style": "",
      "children": [
       "IPY_MODEL_a40a954e3dd44bd6818b2359f41ac10d",
       "IPY_MODEL_80ab8176e8ee4c678f057c9945ba64ff",
       "IPY_MODEL_c55ad801bbea45f8bb1ff9f53b504ff3"
      ],
      "layout": "IPY_MODEL_9bb90ebcf4ad40629bc136888ede5ac7"
     }
    },
    "f137cb7f7be74eec9c81c606e9e9b4d5": {
     "model_module": "@jupyter-widgets/controls",
     "model_name": "FloatProgressModel",
     "state": {
      "_dom_classes": [],
      "_model_module": "@jupyter-widgets/controls",
      "_model_module_version": "1.5.0",
      "_model_name": "FloatProgressModel",
      "_view_count": null,
      "_view_module": "@jupyter-widgets/controls",
      "_view_module_version": "1.5.0",
      "_view_name": "ProgressView",
      "bar_style": "success",
      "description": "",
      "description_tooltip": null,
      "layout": "IPY_MODEL_f8e041ed62e54180a7a85fabe12fc0ee",
      "max": 401861013,
      "min": 0,
      "orientation": "horizontal",
      "style": "IPY_MODEL_32bab4b0dfe24d458c58fd7c72de7e54",
      "value": 401861013
     }
    },
    "f3a5094a07434bd69ee4f3e303372a79": {
     "model_module": "@jupyter-widgets/controls",
     "model_name": "HTMLModel",
     "state": {
      "_dom_classes": [],
      "_model_module": "@jupyter-widgets/controls",
      "_model_module_version": "1.5.0",
      "_model_name": "HTMLModel",
      "_view_count": null,
      "_view_module": "@jupyter-widgets/controls",
      "_view_module_version": "1.5.0",
      "_view_name": "HTMLView",
      "description": "",
      "description_tooltip": null,
      "layout": "IPY_MODEL_d673c60e0a2041db9bf556e4daf1642d",
      "placeholder": "​",
      "style": "IPY_MODEL_a8b5e6e91284416fbc82756e240cbf30",
      "value": " 83.3M/83.3M [00:01&lt;00:00, 81.0MB/s]"
     }
    },
    "f8e041ed62e54180a7a85fabe12fc0ee": {
     "model_module": "@jupyter-widgets/base",
     "model_name": "LayoutModel",
     "state": {
      "_model_module": "@jupyter-widgets/base",
      "_model_module_version": "1.2.0",
      "_model_name": "LayoutModel",
      "_view_count": null,
      "_view_module": "@jupyter-widgets/base",
      "_view_module_version": "1.2.0",
      "_view_name": "LayoutView",
      "align_content": null,
      "align_items": null,
      "align_self": null,
      "border": null,
      "bottom": null,
      "display": null,
      "flex": null,
      "flex_flow": null,
      "grid_area": null,
      "grid_auto_columns": null,
      "grid_auto_flow": null,
      "grid_auto_rows": null,
      "grid_column": null,
      "grid_gap": null,
      "grid_row": null,
      "grid_template_areas": null,
      "grid_template_columns": null,
      "grid_template_rows": null,
      "height": null,
      "justify_content": null,
      "justify_items": null,
      "left": null,
      "margin": null,
      "max_height": null,
      "max_width": null,
      "min_height": null,
      "min_width": null,
      "object_fit": null,
      "object_position": null,
      "order": null,
      "overflow": null,
      "overflow_x": null,
      "overflow_y": null,
      "padding": null,
      "right": null,
      "top": null,
      "visibility": null,
      "width": null
     }
    },
    "fe373ce682f349c79201f7c0e8fc311d": {
     "model_module": "@jupyter-widgets/controls",
     "model_name": "DescriptionStyleModel",
     "state": {
      "_model_module": "@jupyter-widgets/controls",
      "_model_module_version": "1.5.0",
      "_model_name": "DescriptionStyleModel",
      "_view_count": null,
      "_view_module": "@jupyter-widgets/base",
      "_view_module_version": "1.2.0",
      "_view_name": "StyleView",
      "description_width": ""
     }
    },
    "fe735da8ebb64b8aa850e85d3ec1ca4f": {
     "model_module": "@jupyter-widgets/base",
     "model_name": "LayoutModel",
     "state": {
      "_model_module": "@jupyter-widgets/base",
      "_model_module_version": "1.2.0",
      "_model_name": "LayoutModel",
      "_view_count": null,
      "_view_module": "@jupyter-widgets/base",
      "_view_module_version": "1.2.0",
      "_view_name": "LayoutView",
      "align_content": null,
      "align_items": null,
      "align_self": null,
      "border": null,
      "bottom": null,
      "display": null,
      "flex": null,
      "flex_flow": null,
      "grid_area": null,
      "grid_auto_columns": null,
      "grid_auto_flow": null,
      "grid_auto_rows": null,
      "grid_column": null,
      "grid_gap": null,
      "grid_row": null,
      "grid_template_areas": null,
      "grid_template_columns": null,
      "grid_template_rows": null,
      "height": null,
      "justify_content": null,
      "justify_items": null,
      "left": null,
      "margin": null,
      "max_height": null,
      "max_width": null,
      "min_height": null,
      "min_width": null,
      "object_fit": null,
      "object_position": null,
      "order": null,
      "overflow": null,
      "overflow_x": null,
      "overflow_y": null,
      "padding": null,
      "right": null,
      "top": null,
      "visibility": null,
      "width": null
     }
    }
   }
  }
 },
 "nbformat": 4,
 "nbformat_minor": 4
}
